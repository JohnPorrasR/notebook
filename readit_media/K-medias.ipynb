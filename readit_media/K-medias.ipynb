{
 "cells": [
  {
   "cell_type": "markdown",
   "metadata": {},
   "source": [
    "# Algoritmo de k-medias"
   ]
  },
  {
   "cell_type": "code",
   "execution_count": 1,
   "metadata": {},
   "outputs": [],
   "source": [
    "import pandas as pd\n",
    "import numpy as np\n",
    "import seaborn as sns\n",
    "import matplotlib.pyplot as plt"
   ]
  },
  {
   "cell_type": "code",
   "execution_count": 2,
   "metadata": {},
   "outputs": [],
   "source": [
    "from sklearn.datasets import make_blobs"
   ]
  },
  {
   "cell_type": "code",
   "execution_count": 6,
   "metadata": {},
   "outputs": [
    {
     "data": {
      "text/plain": [
       "(array([[-6.71821878e+00,  3.25836113e+00],\n",
       "        [-6.97779541e+00,  2.86037211e+00],\n",
       "        [-8.98409873e+00, -6.67027439e-01],\n",
       "        [-8.10472336e+00, -1.61852504e+00],\n",
       "        [-6.22383788e+00, -2.46212797e-01],\n",
       "        [-7.11826646e+00,  1.24232591e+00],\n",
       "        [-8.96220396e+00, -2.64973946e+00],\n",
       "        [-8.48170121e+00,  2.98573765e-01],\n",
       "        [-7.44866723e+00, -6.06229379e-01],\n",
       "        [ 6.66954748e+00,  1.30868765e+00],\n",
       "        [-7.01800052e+00, -2.00704274e+00],\n",
       "        [-8.49490203e+00, -1.44263794e+00],\n",
       "        [-6.41712763e+00, -1.88605583e+00],\n",
       "        [ 8.97525094e+00,  9.70402951e-01],\n",
       "        [ 8.05611371e+00, -1.62845368e-01],\n",
       "        [-8.39553063e+00,  2.75640142e+00],\n",
       "        [-7.40992838e+00,  1.40698400e+00],\n",
       "        [ 8.06505568e+00,  1.01715144e+00],\n",
       "        [-6.41222904e+00, -9.46519453e-01],\n",
       "        [-7.38467975e+00,  1.78173345e+00],\n",
       "        [-7.28901123e+00, -4.11570991e-01],\n",
       "        [ 5.82337062e+00,  1.77051359e-01],\n",
       "        [-5.82738878e+00, -3.84801790e-02],\n",
       "        [ 7.61361278e+00, -9.30755624e-01],\n",
       "        [-8.21876584e+00, -4.46821926e-01],\n",
       "        [-8.87751705e+00,  2.28550014e-02],\n",
       "        [-5.92934258e+00,  1.57106469e-01],\n",
       "        [ 6.34077780e+00,  3.26471775e-01],\n",
       "        [-4.80781409e+00, -2.69446953e-01],\n",
       "        [-5.49360138e+00, -3.53932081e-01],\n",
       "        [-6.60787303e+00, -2.30929045e+00],\n",
       "        [-4.65893681e+00,  3.75396491e-01],\n",
       "        [-8.60915964e+00,  4.10783993e+00],\n",
       "        [-8.51230104e+00, -1.07794788e+00],\n",
       "        [-7.03299899e+00, -1.41950511e+00],\n",
       "        [-7.19551335e+00, -5.06188211e-01],\n",
       "        [-7.05955666e+00, -1.52391421e+00],\n",
       "        [ 7.55378569e+00,  1.65144736e+00],\n",
       "        [-9.07022028e+00, -4.94518593e-01],\n",
       "        [-8.45672898e+00,  4.28183378e+00],\n",
       "        [-6.66310362e+00,  1.54246075e+00],\n",
       "        [ 9.00011699e+00,  1.35038405e+00],\n",
       "        [-7.18491245e+00, -1.81949118e+00],\n",
       "        [-6.57895069e+00, -1.91910960e+00],\n",
       "        [-9.54284327e+00, -6.99683453e-01],\n",
       "        [-4.85101636e+00, -1.02402916e+00],\n",
       "        [-7.51929549e+00, -1.35675497e+00],\n",
       "        [-6.12048233e+00, -2.07577325e+00],\n",
       "        [-9.25552058e+00,  1.59796550e+00],\n",
       "        [ 7.84607104e+00,  4.21522558e-01],\n",
       "        [-4.00838109e+00,  6.28547922e-01],\n",
       "        [-7.00407436e+00,  2.67995150e+00],\n",
       "        [ 6.85042616e+00,  1.12352837e+00],\n",
       "        [ 8.93830053e+00,  2.36505671e+00],\n",
       "        [-6.53414119e+00, -1.10354193e+00],\n",
       "        [ 7.24190375e+00,  1.82572788e+00],\n",
       "        [-7.27574529e+00,  2.08668751e+00],\n",
       "        [ 8.41970457e+00,  2.99365889e+00],\n",
       "        [-8.88592175e+00, -1.70155707e+00],\n",
       "        [-7.24787781e+00,  1.16871828e+00],\n",
       "        [ 8.55566285e+00,  6.53249936e-01],\n",
       "        [-9.46962108e+00, -9.18385495e-01],\n",
       "        [-6.54183643e+00, -6.23386199e-01],\n",
       "        [-8.60436138e+00, -2.04898958e+00],\n",
       "        [ 8.24194219e+00,  2.27116559e+00],\n",
       "        [ 9.16418617e+00,  5.79995544e-01],\n",
       "        [-7.53867612e+00,  1.19299001e+00],\n",
       "        [-7.57236092e+00,  3.12983831e+00],\n",
       "        [ 8.15091294e+00,  8.55543329e-01],\n",
       "        [-7.18002660e+00,  1.78878483e+00],\n",
       "        [-8.85221318e+00,  1.23239414e-01],\n",
       "        [-6.39364689e+00, -1.67464374e-01],\n",
       "        [-7.52052040e+00,  1.12060788e+00],\n",
       "        [-8.05076261e+00, -7.57799926e-01],\n",
       "        [-6.95915776e+00,  1.93514950e+00],\n",
       "        [-7.89896549e+00, -4.47728777e-02],\n",
       "        [-7.07653695e+00,  1.26391110e+00],\n",
       "        [-7.74219428e+00, -9.84565473e-01],\n",
       "        [ 7.10026706e+00,  1.07868092e+00],\n",
       "        [-8.04456128e+00, -1.57445522e+00],\n",
       "        [-7.27547628e+00,  2.81018448e+00],\n",
       "        [ 6.03121868e+00,  1.99647421e+00],\n",
       "        [-7.60942856e+00,  2.41693186e+00],\n",
       "        [-8.76605770e+00,  9.00350840e-01],\n",
       "        [ 7.57055445e+00,  2.67774049e+00],\n",
       "        [-8.95902612e+00, -1.35054542e+00],\n",
       "        [-9.06761274e+00,  4.09280018e-01],\n",
       "        [-7.30925583e+00, -1.02021899e+00],\n",
       "        [ 9.15350691e+00,  2.11953587e+00],\n",
       "        [-7.99362508e+00,  2.00400868e+00],\n",
       "        [-6.21160355e+00,  1.48746870e-01],\n",
       "        [-5.80938804e+00, -1.77828017e+00],\n",
       "        [-7.86878597e+00, -2.67636150e+00],\n",
       "        [ 7.49375469e+00,  1.67878800e-01],\n",
       "        [ 8.63020131e+00,  8.57533465e-01],\n",
       "        [-7.79573839e+00, -9.59832806e-01],\n",
       "        [-8.34404598e+00,  3.11078188e+00],\n",
       "        [-5.20367435e+00, -1.85355349e+00],\n",
       "        [-6.93244364e+00,  5.06807025e-01],\n",
       "        [-7.49383966e+00, -3.33439133e-03],\n",
       "        [-6.91039992e+00, -5.52430228e-01],\n",
       "        [-7.52385732e+00,  7.22223110e-01],\n",
       "        [ 8.11746645e+00, -1.79345057e-01],\n",
       "        [-7.57830277e+00,  3.96978877e+00],\n",
       "        [-6.78711629e+00,  3.24787879e+00],\n",
       "        [-6.83439435e+00, -1.45482341e+00],\n",
       "        [ 8.55566847e+00,  2.57670694e-01],\n",
       "        [-5.96313348e+00,  2.62355103e+00],\n",
       "        [-6.70725810e+00, -1.43876542e+00],\n",
       "        [-8.28101541e+00,  2.66573799e+00],\n",
       "        [-7.45951590e+00,  3.46468143e+00],\n",
       "        [-7.89809788e+00,  1.48166404e+00],\n",
       "        [ 7.32074683e+00,  3.97267634e+00],\n",
       "        [-7.27310435e+00, -3.62157565e-01],\n",
       "        [-7.29665112e+00,  2.46922849e+00],\n",
       "        [-5.35365750e+00, -1.30494035e+00],\n",
       "        [-6.50836709e+00,  3.57165698e-01],\n",
       "        [-6.27355240e+00, -8.68196732e-01],\n",
       "        [-7.04956999e+00,  1.29925741e+00],\n",
       "        [-9.05909033e+00,  2.85043583e+00],\n",
       "        [-6.65257477e+00, -2.10208068e+00],\n",
       "        [-8.55961224e+00,  3.14599624e+00],\n",
       "        [-9.36823759e+00,  2.99333425e+00],\n",
       "        [ 8.55147337e+00, -3.25590590e-01],\n",
       "        [ 9.78156705e+00,  1.46441632e+00],\n",
       "        [-6.57875498e+00,  2.00614249e+00],\n",
       "        [ 9.74971553e+00,  1.70897291e+00],\n",
       "        [-5.71983154e+00,  7.14028142e-02],\n",
       "        [ 7.84755169e+00,  8.50256100e-01],\n",
       "        [-7.32325485e+00, -6.14054012e-02],\n",
       "        [ 9.15978783e+00,  9.90211274e-01],\n",
       "        [-6.09007662e+00, -2.27058524e-01],\n",
       "        [ 7.32756654e+00,  4.09795398e-01],\n",
       "        [-7.59174283e+00,  3.67669884e+00],\n",
       "        [-7.92595053e+00, -2.74912461e+00],\n",
       "        [-8.76412304e+00, -2.18356685e-01],\n",
       "        [-6.13379370e+00, -8.54582123e-01],\n",
       "        [-7.05215759e+00, -2.21335143e+00],\n",
       "        [-5.32937162e+00, -1.82581776e+00],\n",
       "        [-6.71122136e+00,  1.33995237e+00],\n",
       "        [-7.69972157e+00, -1.27301919e+00],\n",
       "        [-7.57739798e+00,  2.05111691e+00],\n",
       "        [-8.89100933e+00,  2.82307649e+00],\n",
       "        [-5.33306871e+00, -1.05925577e+00],\n",
       "        [-5.51714392e+00, -5.55291757e-01],\n",
       "        [ 7.75185262e+00,  1.03686971e+00],\n",
       "        [-4.53284235e+00, -1.91886906e-01],\n",
       "        [-8.90078536e+00, -1.11457483e+00],\n",
       "        [-7.58248814e+00,  1.90484996e-01],\n",
       "        [-9.08249487e+00, -7.77535717e-01],\n",
       "        [-8.87637009e+00,  1.78480072e+00],\n",
       "        [ 7.03756792e+00,  1.32120460e+00],\n",
       "        [-7.54332919e+00, -4.54158016e-01],\n",
       "        [-5.87587668e+00,  1.98719697e+00],\n",
       "        [-7.11897771e+00,  1.24956997e+00],\n",
       "        [-9.07553088e+00,  1.06603627e+00],\n",
       "        [-7.56393801e+00, -1.73109095e+00],\n",
       "        [-7.46273976e+00,  2.90705746e+00],\n",
       "        [-7.93020448e+00, -1.92142778e-01],\n",
       "        [-7.06818797e+00, -2.71003887e+00],\n",
       "        [ 7.36694936e+00,  5.13184635e-01],\n",
       "        [ 7.41891696e+00,  1.37918956e+00],\n",
       "        [-8.19434976e+00,  5.27411463e+00],\n",
       "        [ 6.41992707e+00,  2.76039589e+00],\n",
       "        [-4.96077331e+00, -4.42314811e-01],\n",
       "        [-7.16739858e+00, -7.38015668e-01],\n",
       "        [-6.93196542e+00, -1.08587732e+00],\n",
       "        [-5.50375891e+00, -2.09078102e+00],\n",
       "        [ 6.91805652e+00,  5.12143416e-01],\n",
       "        [-7.21545584e+00, -1.11754763e+00],\n",
       "        [-6.92156502e+00,  2.25569302e-01],\n",
       "        [ 9.26218999e+00,  1.50664329e+00],\n",
       "        [ 9.47162695e+00,  2.11681400e+00],\n",
       "        [-6.45107511e+00,  1.73539150e+00],\n",
       "        [ 7.18923236e+00,  1.47298846e+00],\n",
       "        [-6.87838594e+00,  3.62937899e+00],\n",
       "        [-6.81427431e+00, -3.49605099e-01],\n",
       "        [ 7.88785791e+00,  9.03158380e-01],\n",
       "        [-7.35265586e+00,  1.07808945e+00],\n",
       "        [-6.92392925e+00,  1.31520052e+00],\n",
       "        [-6.16936688e+00, -5.74646956e-02],\n",
       "        [-5.42254404e+00,  1.84005289e-02],\n",
       "        [-7.10351420e+00,  2.05549635e-01],\n",
       "        [ 5.78132120e+00,  1.22562386e+00],\n",
       "        [-7.30795121e+00,  1.42258441e+00],\n",
       "        [-5.99519951e+00, -1.31470456e+00],\n",
       "        [-7.13180736e+00,  5.76250493e-01],\n",
       "        [ 7.97249755e+00,  1.10472682e+00],\n",
       "        [ 6.98385504e+00,  2.20980262e+00],\n",
       "        [-7.47449921e+00, -3.55681768e-01],\n",
       "        [-7.52231496e+00, -8.31741897e-01],\n",
       "        [ 5.38410132e+00,  6.67764755e-01],\n",
       "        [-6.58790784e+00,  2.39456660e+00],\n",
       "        [-5.18027427e+00, -7.32956962e-01],\n",
       "        [-7.81792134e+00, -1.67728594e+00],\n",
       "        [ 7.98433394e+00,  1.87160673e+00],\n",
       "        [-6.77376892e+00,  3.99683381e+00],\n",
       "        [ 7.58566338e+00,  1.32826157e+00],\n",
       "        [-5.99410308e+00, -2.24405353e+00],\n",
       "        [ 8.70040158e+00, -2.76610842e-01]]),\n",
       " array([1, 1, 3, 3, 0, 0, 3, 1, 0, 2, 0, 3, 3, 2, 2, 1, 1, 2, 0, 1, 3, 2,\n",
       "        0, 2, 3, 3, 0, 2, 0, 0, 0, 0, 1, 3, 3, 3, 3, 2, 3, 1, 1, 2, 3, 0,\n",
       "        3, 0, 3, 3, 1, 2, 0, 1, 2, 2, 0, 2, 1, 2, 3, 3, 2, 3, 3, 3, 2, 2,\n",
       "        1, 1, 2, 1, 3, 0, 1, 3, 1, 3, 0, 3, 2, 3, 1, 2, 1, 1, 2, 3, 3, 3,\n",
       "        2, 1, 0, 3, 3, 2, 2, 3, 1, 0, 0, 0, 3, 3, 2, 1, 1, 3, 2, 1, 0, 1,\n",
       "        1, 1, 2, 0, 1, 0, 1, 0, 0, 1, 0, 1, 1, 2, 2, 1, 2, 0, 2, 3, 2, 0,\n",
       "        2, 1, 0, 3, 0, 0, 0, 1, 3, 1, 1, 0, 0, 2, 0, 3, 3, 3, 1, 2, 0, 1,\n",
       "        1, 1, 3, 1, 3, 0, 2, 2, 1, 2, 0, 0, 3, 0, 2, 0, 3, 2, 2, 1, 2, 1,\n",
       "        0, 2, 1, 1, 0, 0, 0, 2, 0, 3, 0, 2, 2, 3, 3, 2, 1, 0, 3, 2, 1, 2,\n",
       "        0, 2]))"
      ]
     },
     "execution_count": 6,
     "metadata": {},
     "output_type": "execute_result"
    }
   ],
   "source": [
    "datos = make_blobs(n_samples=200, n_features=2, centers=4)\n",
    "# posición 0 datos\n",
    "# posición 1 grupos\n",
    "datos"
   ]
  },
  {
   "cell_type": "code",
   "execution_count": 7,
   "metadata": {},
   "outputs": [
    {
     "data": {
      "text/plain": [
       "<matplotlib.collections.PathCollection at 0x1633090ce80>"
      ]
     },
     "execution_count": 7,
     "metadata": {},
     "output_type": "execute_result"
    },
    {
     "data": {
      "image/png": "[encoded data removed]",
      "text/plain": [
       "<Figure size 432x288 with 1 Axes>"
      ]
     },
     "metadata": {
      "needs_background": "light"
     },
     "output_type": "display_data"
    }
   ],
   "source": [
    "plt.scatter(datos[0][:,0], datos[0][:,1])"
   ]
  },
  {
   "cell_type": "code",
   "execution_count": 8,
   "metadata": {},
   "outputs": [],
   "source": [
    "from sklearn.cluster import KMeans"
   ]
  },
  {
   "cell_type": "code",
   "execution_count": 9,
   "metadata": {},
   "outputs": [],
   "source": [
    "modelo = KMeans(n_clusters=4)"
   ]
  },
  {
   "cell_type": "code",
   "execution_count": 10,
   "metadata": {},
   "outputs": [
    {
     "data": {
      "text/plain": [
       "KMeans(n_clusters=4)"
      ]
     },
     "execution_count": 10,
     "metadata": {},
     "output_type": "execute_result"
    }
   ],
   "source": [
    "modelo.fit(datos[0])"
   ]
  },
  {
   "cell_type": "code",
   "execution_count": 11,
   "metadata": {},
   "outputs": [
    {
     "data": {
      "text/plain": [
       "array([[ 7.82028281,  1.16996238],\n",
       "       [-5.95051898, -0.71673454],\n",
       "       [-7.54456274,  2.31697705],\n",
       "       [-7.95603427, -1.01657526]])"
      ]
     },
     "execution_count": 11,
     "metadata": {},
     "output_type": "execute_result"
    }
   ],
   "source": [
    "modelo.cluster_centers_"
   ]
  },
  {
   "cell_type": "code",
   "execution_count": 12,
   "metadata": {},
   "outputs": [
    {
     "data": {
      "text/plain": [
       "array([2, 2, 3, 3, 1, 2, 3, 3, 3, 0, 3, 3, 1, 0, 0, 2, 2, 0, 1, 2, 3, 0,\n",
       "       1, 0, 3, 3, 1, 0, 1, 1, 1, 1, 2, 3, 3, 3, 3, 0, 3, 2, 2, 0, 3, 1,\n",
       "       3, 1, 3, 1, 2, 0, 1, 2, 0, 0, 1, 0, 2, 0, 3, 2, 0, 3, 1, 3, 0, 0,\n",
       "       2, 2, 0, 2, 3, 1, 2, 3, 2, 3, 2, 3, 0, 3, 2, 0, 2, 2, 0, 3, 3, 3,\n",
       "       0, 2, 1, 1, 3, 0, 0, 3, 2, 1, 1, 3, 1, 2, 0, 2, 2, 1, 0, 2, 1, 2,\n",
       "       2, 2, 0, 3, 2, 1, 1, 1, 2, 2, 1, 2, 2, 0, 0, 2, 0, 1, 0, 3, 0, 1,\n",
       "       0, 2, 3, 3, 1, 3, 1, 2, 3, 2, 2, 1, 1, 0, 1, 3, 3, 3, 2, 0, 3, 2,\n",
       "       2, 2, 3, 2, 3, 3, 0, 0, 2, 0, 1, 3, 3, 1, 0, 3, 1, 0, 0, 2, 0, 2,\n",
       "       1, 0, 2, 2, 1, 1, 1, 0, 2, 1, 1, 0, 0, 3, 3, 0, 2, 1, 3, 0, 2, 0,\n",
       "       1, 0])"
      ]
     },
     "execution_count": 12,
     "metadata": {},
     "output_type": "execute_result"
    }
   ],
   "source": [
    "modelo.labels_"
   ]
  },
  {
   "cell_type": "code",
   "execution_count": 13,
   "metadata": {},
   "outputs": [
    {
     "data": {
      "text/plain": [
       "array([1, 1, 3, 3, 0, 0, 3, 1, 0, 2, 0, 3, 3, 2, 2, 1, 1, 2, 0, 1, 3, 2,\n",
       "       0, 2, 3, 3, 0, 2, 0, 0, 0, 0, 1, 3, 3, 3, 3, 2, 3, 1, 1, 2, 3, 0,\n",
       "       3, 0, 3, 3, 1, 2, 0, 1, 2, 2, 0, 2, 1, 2, 3, 3, 2, 3, 3, 3, 2, 2,\n",
       "       1, 1, 2, 1, 3, 0, 1, 3, 1, 3, 0, 3, 2, 3, 1, 2, 1, 1, 2, 3, 3, 3,\n",
       "       2, 1, 0, 3, 3, 2, 2, 3, 1, 0, 0, 0, 3, 3, 2, 1, 1, 3, 2, 1, 0, 1,\n",
       "       1, 1, 2, 0, 1, 0, 1, 0, 0, 1, 0, 1, 1, 2, 2, 1, 2, 0, 2, 3, 2, 0,\n",
       "       2, 1, 0, 3, 0, 0, 0, 1, 3, 1, 1, 0, 0, 2, 0, 3, 3, 3, 1, 2, 0, 1,\n",
       "       1, 1, 3, 1, 3, 0, 2, 2, 1, 2, 0, 0, 3, 0, 2, 0, 3, 2, 2, 1, 2, 1,\n",
       "       0, 2, 1, 1, 0, 0, 0, 2, 0, 3, 0, 2, 2, 3, 3, 2, 1, 0, 3, 2, 1, 2,\n",
       "       0, 2])"
      ]
     },
     "execution_count": 13,
     "metadata": {},
     "output_type": "execute_result"
    }
   ],
   "source": [
    "datos[1]"
   ]
  },
  {
   "cell_type": "code",
   "execution_count": 15,
   "metadata": {},
   "outputs": [
    {
     "data": {
      "text/plain": [
       "Text(0.5, 1.0, 'Datos originales')"
      ]
     },
     "execution_count": 15,
     "metadata": {},
     "output_type": "execute_result"
    },
    {
     "data": {
      "image/png": "[encoded data removed]",
      "text/plain": [
       "<Figure size 864x288 with 2 Axes>"
      ]
     },
     "metadata": {
      "needs_background": "light"
     },
     "output_type": "display_data"
    }
   ],
   "source": [
    "fig, (ax1, ax2) = plt.subplots(1,2,figsize=(12,4))\n",
    "\n",
    "ax1.scatter(datos[0][:,0], datos[0][:,1], c=modelo.labels_)\n",
    "ax1.set_title('Algoritmo de k-medias')\n",
    "\n",
    "ax2.scatter(datos[0][:,0], datos[0][:,1], c=datos[1])\n",
    "ax2.set_title('Datos originales')"
   ]
  },
  {
   "cell_type": "code",
   "execution_count": null,
   "metadata": {},
   "outputs": [],
   "source": []
  },
  {
   "cell_type": "code",
   "execution_count": null,
   "metadata": {},
   "outputs": [],
   "source": []
  },
  {
   "cell_type": "code",
   "execution_count": null,
   "metadata": {},
   "outputs": [],
   "source": []
  },
  {
   "cell_type": "code",
   "execution_count": null,
   "metadata": {},
   "outputs": [],
   "source": []
  }
 ],
 "metadata": {
  "kernelspec": {
   "display_name": "Python 3",
   "language": "python",
   "name": "python3"
  },
  "language_info": {
   "codemirror_mode": {
    "name": "ipython",
    "version": 3
   },
   "file_extension": ".py",
   "mimetype": "text/x-python",
   "name": "python",
   "nbconvert_exporter": "python",
   "pygments_lexer": "ipython3",
   "version": "3.8.5"
  }
 },
 "nbformat": 4,
 "nbformat_minor": 4
}
