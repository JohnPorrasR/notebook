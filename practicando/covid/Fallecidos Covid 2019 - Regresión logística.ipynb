{
 "cells": [
  {
   "cell_type": "code",
   "execution_count": 1,
   "metadata": {},
   "outputs": [],
   "source": [
    "import pandas as pd\n",
    "import numpy as np\n",
    "import matplotlib.pyplot as plt\n",
    "import seaborn as sns\n",
    "\n",
    "%matplotlib inline"
   ]
  },
  {
   "cell_type": "code",
   "execution_count": 13,
   "metadata": {},
   "outputs": [],
   "source": [
    "path = \"datasets/fallecidos_sinadef.csv\"\n",
    "data = pd.read_csv(path, sep=\"|\")"
   ]
  },
  {
   "cell_type": "code",
   "execution_count": 19,
   "metadata": {
    "scrolled": false
   },
   "outputs": [
    {
     "data": {
      "text/html": [
       "<div>\n",
       "<style scoped>\n",
       "    .dataframe tbody tr th:only-of-type {\n",
       "        vertical-align: middle;\n",
       "    }\n",
       "\n",
       "    .dataframe tbody tr th {\n",
       "        vertical-align: top;\n",
       "    }\n",
       "\n",
       "    .dataframe thead th {\n",
       "        text-align: right;\n",
       "    }\n",
       "</style>\n",
       "<table border=\"1\" class=\"dataframe\">\n",
       "  <thead>\n",
       "    <tr style=\"text-align: right;\">\n",
       "      <th></th>\n",
       "      <th>Nº</th>\n",
       "      <th>TIPO SEGURO</th>\n",
       "      <th>SEXO</th>\n",
       "      <th>EDAD</th>\n",
       "      <th>TIEMPO EDAD</th>\n",
       "      <th>ESTADO CIVIL</th>\n",
       "      <th>NIVEL DE INSTRUCCIÓN</th>\n",
       "      <th>COD# UBIGEO DOMICILIO</th>\n",
       "      <th>PAIS DOMICILIO</th>\n",
       "      <th>DEPARTAMENTO DOMICILIO</th>\n",
       "      <th>...</th>\n",
       "      <th>DEBIDO A (CAUSA B)</th>\n",
       "      <th>CAUSA B (CIE-X)</th>\n",
       "      <th>DEBIDO A (CAUSA C)</th>\n",
       "      <th>CAUSA C (CIE-X)</th>\n",
       "      <th>DEBIDO A (CAUSA D)</th>\n",
       "      <th>CAUSA D (CIE-X)</th>\n",
       "      <th>DEBIDO A (CAUSA E)</th>\n",
       "      <th>CAUSA E (CIE-X)</th>\n",
       "      <th>DEBIDO A (CAUSA F)</th>\n",
       "      <th>CAUSA F (CIE-X)</th>\n",
       "    </tr>\n",
       "  </thead>\n",
       "  <tbody>\n",
       "    <tr>\n",
       "      <th>0</th>\n",
       "      <td>1</td>\n",
       "      <td>SIS</td>\n",
       "      <td>MASCULINO</td>\n",
       "      <td>4</td>\n",
       "      <td>AÑOS</td>\n",
       "      <td>SOLTERO</td>\n",
       "      <td>IGNORADO</td>\n",
       "      <td>92-33-21-04-01-000</td>\n",
       "      <td>PERU</td>\n",
       "      <td>SAN MARTIN</td>\n",
       "      <td>...</td>\n",
       "      <td>NEUMONIA SEVERA</td>\n",
       "      <td>J159</td>\n",
       "      <td>SIN REGISTRO</td>\n",
       "      <td>SIN REGISTRO</td>\n",
       "      <td>SIN REGISTRO</td>\n",
       "      <td>SIN REGISTRO</td>\n",
       "      <td>PARALISIS CEREBRAL INFANTIL</td>\n",
       "      <td>G809</td>\n",
       "      <td>SIN REGISTRO</td>\n",
       "      <td>SIN REGISTRO</td>\n",
       "    </tr>\n",
       "    <tr>\n",
       "      <th>1</th>\n",
       "      <td>2</td>\n",
       "      <td>SIS</td>\n",
       "      <td>FEMENINO</td>\n",
       "      <td>15</td>\n",
       "      <td>MINUTOS</td>\n",
       "      <td>SOLTERO</td>\n",
       "      <td>SUPERIOR NO UNIV. COMP.</td>\n",
       "      <td>92-33-12-08-06-000</td>\n",
       "      <td>PERU</td>\n",
       "      <td>LA LIBERTAD</td>\n",
       "      <td>...</td>\n",
       "      <td>DIFICULTAD RESPIRATORIA DEL RECIEN NACIDO</td>\n",
       "      <td>P229</td>\n",
       "      <td>INMATURIDAD EXTREMA</td>\n",
       "      <td>P072</td>\n",
       "      <td>SIN REGISTRO</td>\n",
       "      <td>SIN REGISTRO</td>\n",
       "      <td>SIN REGISTRO</td>\n",
       "      <td>SIN REGISTRO</td>\n",
       "      <td>SIN REGISTRO</td>\n",
       "      <td>SIN REGISTRO</td>\n",
       "    </tr>\n",
       "    <tr>\n",
       "      <th>2</th>\n",
       "      <td>3</td>\n",
       "      <td>IGNORADO</td>\n",
       "      <td>MASCULINO</td>\n",
       "      <td>59</td>\n",
       "      <td>AÑOS</td>\n",
       "      <td>SOLTERO</td>\n",
       "      <td>IGNORADO</td>\n",
       "      <td>92-33-24-01-01-000</td>\n",
       "      <td>PERU</td>\n",
       "      <td>CALLAO</td>\n",
       "      <td>...</td>\n",
       "      <td>SHOCK HIPOVOLEMICO</td>\n",
       "      <td>SIN REGISTRO</td>\n",
       "      <td>SUCESO DE TRANSITO</td>\n",
       "      <td>SIN REGISTRO</td>\n",
       "      <td>SIN REGISTRO</td>\n",
       "      <td>SIN REGISTRO</td>\n",
       "      <td>SIN REGISTRO</td>\n",
       "      <td>SIN REGISTRO</td>\n",
       "      <td>SIN REGISTRO</td>\n",
       "      <td>SIN REGISTRO</td>\n",
       "    </tr>\n",
       "    <tr>\n",
       "      <th>3</th>\n",
       "      <td>4</td>\n",
       "      <td>SIS</td>\n",
       "      <td>FEMENINO</td>\n",
       "      <td>86</td>\n",
       "      <td>AÑOS</td>\n",
       "      <td>SOLTERO</td>\n",
       "      <td>PRIMARIA INCOMPLETA</td>\n",
       "      <td>92-33-21-03-13-000</td>\n",
       "      <td>PERU</td>\n",
       "      <td>SAN MARTIN</td>\n",
       "      <td>...</td>\n",
       "      <td>HIPERLIPIDEMIA NO ESPECIFICADA</td>\n",
       "      <td>E785</td>\n",
       "      <td>ATEROSCLEROSIS GENERALIZADA Y LA NO ESPECIFICADA</td>\n",
       "      <td>I709</td>\n",
       "      <td>HIPERTENSION ESENCIAL</td>\n",
       "      <td>I10X</td>\n",
       "      <td>SIN REGISTRO</td>\n",
       "      <td>SIN REGISTRO</td>\n",
       "      <td>SIN REGISTRO</td>\n",
       "      <td>SIN REGISTRO</td>\n",
       "    </tr>\n",
       "    <tr>\n",
       "      <th>4</th>\n",
       "      <td>5</td>\n",
       "      <td>SIS</td>\n",
       "      <td>MASCULINO</td>\n",
       "      <td>51</td>\n",
       "      <td>AÑOS</td>\n",
       "      <td>SOLTERO</td>\n",
       "      <td>SUPERIOR NO UNIV. COMP.</td>\n",
       "      <td>92-33-14-10-01-106</td>\n",
       "      <td>PERU</td>\n",
       "      <td>LIMA</td>\n",
       "      <td>...</td>\n",
       "      <td>SIN REGISTRO</td>\n",
       "      <td>SIN REGISTRO</td>\n",
       "      <td>SIN REGISTRO</td>\n",
       "      <td>SIN REGISTRO</td>\n",
       "      <td>SIN REGISTRO</td>\n",
       "      <td>SIN REGISTRO</td>\n",
       "      <td>SIN REGISTRO</td>\n",
       "      <td>SIN REGISTRO</td>\n",
       "      <td>SIN REGISTRO</td>\n",
       "      <td>SIN REGISTRO</td>\n",
       "    </tr>\n",
       "  </tbody>\n",
       "</table>\n",
       "<p>5 rows × 31 columns</p>\n",
       "</div>"
      ],
      "text/plain": [
       "   Nº TIPO SEGURO       SEXO EDAD TIEMPO EDAD ESTADO CIVIL  \\\n",
       "0   1         SIS  MASCULINO    4        AÑOS      SOLTERO   \n",
       "1   2         SIS   FEMENINO   15     MINUTOS      SOLTERO   \n",
       "2   3    IGNORADO  MASCULINO   59        AÑOS      SOLTERO   \n",
       "3   4         SIS   FEMENINO   86        AÑOS      SOLTERO   \n",
       "4   5         SIS  MASCULINO   51        AÑOS      SOLTERO   \n",
       "\n",
       "      NIVEL DE INSTRUCCIÓN COD# UBIGEO DOMICILIO PAIS DOMICILIO  \\\n",
       "0                 IGNORADO    92-33-21-04-01-000           PERU   \n",
       "1  SUPERIOR NO UNIV. COMP.    92-33-12-08-06-000           PERU   \n",
       "2                 IGNORADO    92-33-24-01-01-000           PERU   \n",
       "3      PRIMARIA INCOMPLETA    92-33-21-03-13-000           PERU   \n",
       "4  SUPERIOR NO UNIV. COMP.    92-33-14-10-01-106           PERU   \n",
       "\n",
       "  DEPARTAMENTO DOMICILIO  ...                         DEBIDO A (CAUSA B)  \\\n",
       "0             SAN MARTIN  ...                            NEUMONIA SEVERA   \n",
       "1            LA LIBERTAD  ...  DIFICULTAD RESPIRATORIA DEL RECIEN NACIDO   \n",
       "2                 CALLAO  ...                         SHOCK HIPOVOLEMICO   \n",
       "3             SAN MARTIN  ...             HIPERLIPIDEMIA NO ESPECIFICADA   \n",
       "4                   LIMA  ...                               SIN REGISTRO   \n",
       "\n",
       "  CAUSA B (CIE-X)                                DEBIDO A (CAUSA C)  \\\n",
       "0            J159                                      SIN REGISTRO   \n",
       "1            P229                               INMATURIDAD EXTREMA   \n",
       "2    SIN REGISTRO                                SUCESO DE TRANSITO   \n",
       "3            E785  ATEROSCLEROSIS GENERALIZADA Y LA NO ESPECIFICADA   \n",
       "4    SIN REGISTRO                                      SIN REGISTRO   \n",
       "\n",
       "   CAUSA C (CIE-X)     DEBIDO A (CAUSA D) CAUSA D (CIE-X)  \\\n",
       "0     SIN REGISTRO           SIN REGISTRO    SIN REGISTRO   \n",
       "1             P072           SIN REGISTRO    SIN REGISTRO   \n",
       "2     SIN REGISTRO           SIN REGISTRO    SIN REGISTRO   \n",
       "3             I709  HIPERTENSION ESENCIAL            I10X   \n",
       "4     SIN REGISTRO           SIN REGISTRO    SIN REGISTRO   \n",
       "\n",
       "            DEBIDO A (CAUSA E) CAUSA E (CIE-X) DEBIDO A (CAUSA F)  \\\n",
       "0  PARALISIS CEREBRAL INFANTIL            G809       SIN REGISTRO   \n",
       "1                 SIN REGISTRO    SIN REGISTRO       SIN REGISTRO   \n",
       "2                 SIN REGISTRO    SIN REGISTRO       SIN REGISTRO   \n",
       "3                 SIN REGISTRO    SIN REGISTRO       SIN REGISTRO   \n",
       "4                 SIN REGISTRO    SIN REGISTRO       SIN REGISTRO   \n",
       "\n",
       "  CAUSA F (CIE-X)  \n",
       "0    SIN REGISTRO  \n",
       "1    SIN REGISTRO  \n",
       "2    SIN REGISTRO  \n",
       "3    SIN REGISTRO  \n",
       "4    SIN REGISTRO  \n",
       "\n",
       "[5 rows x 31 columns]"
      ]
     },
     "execution_count": 19,
     "metadata": {},
     "output_type": "execute_result"
    }
   ],
   "source": [
    "data_mc = data\n",
    "data_mc.head()"
   ]
  },
  {
   "cell_type": "code",
   "execution_count": 20,
   "metadata": {},
   "outputs": [
    {
     "name": "stdout",
     "output_type": "stream",
     "text": [
      "Este dataset contiene 761482 filas y 31 columnas\n",
      "Columnas: ['Nº', 'TIPO SEGURO', 'SEXO', 'EDAD', 'TIEMPO EDAD', 'ESTADO CIVIL', 'NIVEL DE INSTRUCCIÓN', 'COD# UBIGEO DOMICILIO', 'PAIS DOMICILIO', 'DEPARTAMENTO DOMICILIO', 'PROVINCIA DOMICILIO', 'DISTRITO DOMICILIO', 'FECHA', 'AÑO', 'MES', 'TIPO LUGAR', 'INSTITUCION', 'MUERTE VIOLENTA', 'NECROPSIA', 'DEBIDO A (CAUSA A)', 'CAUSA A (CIE-X)', 'DEBIDO A (CAUSA B)', 'CAUSA B (CIE-X)', 'DEBIDO A (CAUSA C)', 'CAUSA C (CIE-X)', 'DEBIDO A (CAUSA D)', 'CAUSA D (CIE-X)', 'DEBIDO A (CAUSA E)', 'CAUSA E (CIE-X)', 'DEBIDO A (CAUSA F)', 'CAUSA F (CIE-X)']\n"
     ]
    }
   ],
   "source": [
    "# Para conocer mas los datos pordemos hacer lo siguiente:\n",
    "print('Este dataset contiene {} filas y {} columnas'.format(data_mc.shape[0], data_mc.shape[1]))\n",
    "print('Columnas: {}'.format(data_mc.columns.values.tolist()))"
   ]
  },
  {
   "cell_type": "code",
   "execution_count": 23,
   "metadata": {},
   "outputs": [
    {
     "data": {
      "text/plain": [
       "['DEBIDO A (CAUSA A)',\n",
       " 'CAUSA A (CIE-X)',\n",
       " 'DEBIDO A (CAUSA B)',\n",
       " 'CAUSA B (CIE-X)',\n",
       " 'DEBIDO A (CAUSA C)',\n",
       " 'CAUSA C (CIE-X)',\n",
       " 'DEBIDO A (CAUSA D)',\n",
       " 'CAUSA D (CIE-X)',\n",
       " 'DEBIDO A (CAUSA E)',\n",
       " 'CAUSA E (CIE-X)',\n",
       " 'DEBIDO A (CAUSA F)',\n",
       " 'CAUSA F (CIE-X)']"
      ]
     },
     "execution_count": 23,
     "metadata": {},
     "output_type": "execute_result"
    }
   ],
   "source": [
    "eliminar_columnas = ['DEBIDO A (CAUSA A)', 'CAUSA A (CIE-X)', 'DEBIDO A (CAUSA B)', 'CAUSA B (CIE-X)', 'DEBIDO A (CAUSA C)', 'CAUSA C (CIE-X)', 'DEBIDO A (CAUSA D)', 'CAUSA D (CIE-X)', 'DEBIDO A (CAUSA E)', 'CAUSA E (CIE-X)', 'DEBIDO A (CAUSA F)', 'CAUSA F (CIE-X)']\n",
    "eliminar_columnas"
   ]
  },
  {
   "cell_type": "code",
   "execution_count": 28,
   "metadata": {},
   "outputs": [],
   "source": [
    "data_mc = data_mc.drop(eliminar_columnas, axis=1)"
   ]
  },
  {
   "cell_type": "code",
   "execution_count": 29,
   "metadata": {},
   "outputs": [
    {
     "name": "stdout",
     "output_type": "stream",
     "text": [
      "Columnas: ['Nº', 'TIPO SEGURO', 'SEXO', 'EDAD', 'TIEMPO EDAD', 'ESTADO CIVIL', 'NIVEL DE INSTRUCCIÓN', 'COD# UBIGEO DOMICILIO', 'PAIS DOMICILIO', 'DEPARTAMENTO DOMICILIO', 'PROVINCIA DOMICILIO', 'DISTRITO DOMICILIO', 'FECHA', 'AÑO', 'MES', 'TIPO LUGAR', 'INSTITUCION', 'MUERTE VIOLENTA', 'NECROPSIA']\n"
     ]
    }
   ],
   "source": [
    "print('Columnas: {}'.format(data_mc.columns.values.tolist()))"
   ]
  },
  {
   "cell_type": "code",
   "execution_count": 30,
   "metadata": {},
   "outputs": [],
   "source": [
    "data_mc[\"CAUSA\"] = data[\"DEBIDO A (CAUSA A)\"]"
   ]
  },
  {
   "cell_type": "code",
   "execution_count": 31,
   "metadata": {},
   "outputs": [
    {
     "data": {
      "text/html": [
       "<div>\n",
       "<style scoped>\n",
       "    .dataframe tbody tr th:only-of-type {\n",
       "        vertical-align: middle;\n",
       "    }\n",
       "\n",
       "    .dataframe tbody tr th {\n",
       "        vertical-align: top;\n",
       "    }\n",
       "\n",
       "    .dataframe thead th {\n",
       "        text-align: right;\n",
       "    }\n",
       "</style>\n",
       "<table border=\"1\" class=\"dataframe\">\n",
       "  <thead>\n",
       "    <tr style=\"text-align: right;\">\n",
       "      <th></th>\n",
       "      <th>Nº</th>\n",
       "      <th>TIPO SEGURO</th>\n",
       "      <th>SEXO</th>\n",
       "      <th>EDAD</th>\n",
       "      <th>TIEMPO EDAD</th>\n",
       "      <th>ESTADO CIVIL</th>\n",
       "      <th>NIVEL DE INSTRUCCIÓN</th>\n",
       "      <th>COD# UBIGEO DOMICILIO</th>\n",
       "      <th>PAIS DOMICILIO</th>\n",
       "      <th>DEPARTAMENTO DOMICILIO</th>\n",
       "      <th>PROVINCIA DOMICILIO</th>\n",
       "      <th>DISTRITO DOMICILIO</th>\n",
       "      <th>FECHA</th>\n",
       "      <th>AÑO</th>\n",
       "      <th>MES</th>\n",
       "      <th>TIPO LUGAR</th>\n",
       "      <th>INSTITUCION</th>\n",
       "      <th>MUERTE VIOLENTA</th>\n",
       "      <th>NECROPSIA</th>\n",
       "      <th>CAUSA</th>\n",
       "    </tr>\n",
       "  </thead>\n",
       "  <tbody>\n",
       "    <tr>\n",
       "      <th>0</th>\n",
       "      <td>1</td>\n",
       "      <td>SIS</td>\n",
       "      <td>MASCULINO</td>\n",
       "      <td>4</td>\n",
       "      <td>AÑOS</td>\n",
       "      <td>SOLTERO</td>\n",
       "      <td>IGNORADO</td>\n",
       "      <td>92-33-21-04-01-000</td>\n",
       "      <td>PERU</td>\n",
       "      <td>SAN MARTIN</td>\n",
       "      <td>MARISCAL CACERES</td>\n",
       "      <td>JUANJUI</td>\n",
       "      <td>2020-01-17</td>\n",
       "      <td>2020</td>\n",
       "      <td>1</td>\n",
       "      <td>EESS</td>\n",
       "      <td>GOBIERNO REGIONAL</td>\n",
       "      <td>SIN REGISTRO</td>\n",
       "      <td>NO SE REALIZÓ NECROPSIA</td>\n",
       "      <td>INSUFICIENCIA RESPIRATORIA AGUDA</td>\n",
       "    </tr>\n",
       "    <tr>\n",
       "      <th>1</th>\n",
       "      <td>2</td>\n",
       "      <td>SIS</td>\n",
       "      <td>FEMENINO</td>\n",
       "      <td>15</td>\n",
       "      <td>MINUTOS</td>\n",
       "      <td>SOLTERO</td>\n",
       "      <td>SUPERIOR NO UNIV. COMP.</td>\n",
       "      <td>92-33-12-08-06-000</td>\n",
       "      <td>PERU</td>\n",
       "      <td>LA LIBERTAD</td>\n",
       "      <td>ASCOPE</td>\n",
       "      <td>PAIJAN</td>\n",
       "      <td>2021-01-19</td>\n",
       "      <td>2021</td>\n",
       "      <td>1</td>\n",
       "      <td>EESS</td>\n",
       "      <td>ESSALUD</td>\n",
       "      <td>SIN REGISTRO</td>\n",
       "      <td>NO SE REALIZÓ NECROPSIA</td>\n",
       "      <td>ASFIXIA DE NACIMIENTO SEVERA</td>\n",
       "    </tr>\n",
       "    <tr>\n",
       "      <th>2</th>\n",
       "      <td>3</td>\n",
       "      <td>IGNORADO</td>\n",
       "      <td>MASCULINO</td>\n",
       "      <td>59</td>\n",
       "      <td>AÑOS</td>\n",
       "      <td>SOLTERO</td>\n",
       "      <td>IGNORADO</td>\n",
       "      <td>92-33-24-01-01-000</td>\n",
       "      <td>PERU</td>\n",
       "      <td>CALLAO</td>\n",
       "      <td>CALLAO</td>\n",
       "      <td>CALLAO</td>\n",
       "      <td>2021-01-30</td>\n",
       "      <td>2021</td>\n",
       "      <td>1</td>\n",
       "      <td>VIA PUBLICA</td>\n",
       "      <td>SIN REGISTRO</td>\n",
       "      <td>NO SE CONOCE</td>\n",
       "      <td>SI SE REALIZÓ NECROPSIA</td>\n",
       "      <td>TRAUMATISMOS MULTIPLES</td>\n",
       "    </tr>\n",
       "    <tr>\n",
       "      <th>3</th>\n",
       "      <td>4</td>\n",
       "      <td>SIS</td>\n",
       "      <td>FEMENINO</td>\n",
       "      <td>86</td>\n",
       "      <td>AÑOS</td>\n",
       "      <td>SOLTERO</td>\n",
       "      <td>PRIMARIA INCOMPLETA</td>\n",
       "      <td>92-33-21-03-13-000</td>\n",
       "      <td>PERU</td>\n",
       "      <td>SAN MARTIN</td>\n",
       "      <td>LAMAS</td>\n",
       "      <td>TABALOSOS</td>\n",
       "      <td>2020-01-03</td>\n",
       "      <td>2020</td>\n",
       "      <td>1</td>\n",
       "      <td>DOMICILIO</td>\n",
       "      <td>SIN REGISTRO</td>\n",
       "      <td>SIN REGISTRO</td>\n",
       "      <td>NO SE REALIZÓ NECROPSIA</td>\n",
       "      <td>INFARTO AGUDO DEL MIOCARDIO SIN OTRA ESPECIFIC...</td>\n",
       "    </tr>\n",
       "    <tr>\n",
       "      <th>4</th>\n",
       "      <td>5</td>\n",
       "      <td>SIS</td>\n",
       "      <td>MASCULINO</td>\n",
       "      <td>51</td>\n",
       "      <td>AÑOS</td>\n",
       "      <td>SOLTERO</td>\n",
       "      <td>SUPERIOR NO UNIV. COMP.</td>\n",
       "      <td>92-33-14-10-01-106</td>\n",
       "      <td>PERU</td>\n",
       "      <td>LIMA</td>\n",
       "      <td>OYON</td>\n",
       "      <td>OYON</td>\n",
       "      <td>2021-01-10</td>\n",
       "      <td>2021</td>\n",
       "      <td>1</td>\n",
       "      <td>VIA PUBLICA</td>\n",
       "      <td>SIN REGISTRO</td>\n",
       "      <td>SIN REGISTRO</td>\n",
       "      <td>NO SE REALIZÓ NECROPSIA</td>\n",
       "      <td>INFARTO AGUDO DEL MIOCARDIO SIN OTRA ESPECIFIC...</td>\n",
       "    </tr>\n",
       "  </tbody>\n",
       "</table>\n",
       "</div>"
      ],
      "text/plain": [
       "   Nº TIPO SEGURO       SEXO EDAD TIEMPO EDAD ESTADO CIVIL  \\\n",
       "0   1         SIS  MASCULINO    4        AÑOS      SOLTERO   \n",
       "1   2         SIS   FEMENINO   15     MINUTOS      SOLTERO   \n",
       "2   3    IGNORADO  MASCULINO   59        AÑOS      SOLTERO   \n",
       "3   4         SIS   FEMENINO   86        AÑOS      SOLTERO   \n",
       "4   5         SIS  MASCULINO   51        AÑOS      SOLTERO   \n",
       "\n",
       "      NIVEL DE INSTRUCCIÓN COD# UBIGEO DOMICILIO PAIS DOMICILIO  \\\n",
       "0                 IGNORADO    92-33-21-04-01-000           PERU   \n",
       "1  SUPERIOR NO UNIV. COMP.    92-33-12-08-06-000           PERU   \n",
       "2                 IGNORADO    92-33-24-01-01-000           PERU   \n",
       "3      PRIMARIA INCOMPLETA    92-33-21-03-13-000           PERU   \n",
       "4  SUPERIOR NO UNIV. COMP.    92-33-14-10-01-106           PERU   \n",
       "\n",
       "  DEPARTAMENTO DOMICILIO PROVINCIA DOMICILIO DISTRITO DOMICILIO       FECHA  \\\n",
       "0             SAN MARTIN    MARISCAL CACERES            JUANJUI  2020-01-17   \n",
       "1            LA LIBERTAD              ASCOPE             PAIJAN  2021-01-19   \n",
       "2                 CALLAO              CALLAO             CALLAO  2021-01-30   \n",
       "3             SAN MARTIN               LAMAS          TABALOSOS  2020-01-03   \n",
       "4                   LIMA                OYON               OYON  2021-01-10   \n",
       "\n",
       "    AÑO  MES   TIPO LUGAR        INSTITUCION MUERTE VIOLENTA  \\\n",
       "0  2020    1         EESS  GOBIERNO REGIONAL    SIN REGISTRO   \n",
       "1  2021    1         EESS            ESSALUD    SIN REGISTRO   \n",
       "2  2021    1  VIA PUBLICA       SIN REGISTRO    NO SE CONOCE   \n",
       "3  2020    1    DOMICILIO       SIN REGISTRO    SIN REGISTRO   \n",
       "4  2021    1  VIA PUBLICA       SIN REGISTRO    SIN REGISTRO   \n",
       "\n",
       "                 NECROPSIA                                              CAUSA  \n",
       "0  NO SE REALIZÓ NECROPSIA                   INSUFICIENCIA RESPIRATORIA AGUDA  \n",
       "1  NO SE REALIZÓ NECROPSIA                       ASFIXIA DE NACIMIENTO SEVERA  \n",
       "2  SI SE REALIZÓ NECROPSIA                             TRAUMATISMOS MULTIPLES  \n",
       "3  NO SE REALIZÓ NECROPSIA  INFARTO AGUDO DEL MIOCARDIO SIN OTRA ESPECIFIC...  \n",
       "4  NO SE REALIZÓ NECROPSIA  INFARTO AGUDO DEL MIOCARDIO SIN OTRA ESPECIFIC...  "
      ]
     },
     "execution_count": 31,
     "metadata": {},
     "output_type": "execute_result"
    }
   ],
   "source": [
    "data_mc.head()"
   ]
  },
  {
   "cell_type": "code",
   "execution_count": 33,
   "metadata": {},
   "outputs": [
    {
     "name": "stdout",
     "output_type": "stream",
     "text": [
      "Columnas Nº = 0\n",
      "Columnas TIPO SEGURO = 0\n",
      "Columnas SEXO = 0\n",
      "Columnas EDAD = 0\n",
      "Columnas TIEMPO EDAD = 0\n",
      "Columnas ESTADO CIVIL = 0\n",
      "Columnas NIVEL DE INSTRUCCIÓN = 0\n",
      "Columnas COD# UBIGEO DOMICILIO = 0\n",
      "Columnas PAIS DOMICILIO = 0\n",
      "Columnas DEPARTAMENTO DOMICILIO = 0\n",
      "Columnas PROVINCIA DOMICILIO = 0\n",
      "Columnas DISTRITO DOMICILIO = 0\n",
      "Columnas FECHA = 0\n",
      "Columnas AÑO = 0\n",
      "Columnas MES = 0\n",
      "Columnas TIPO LUGAR = 0\n",
      "Columnas INSTITUCION = 0\n",
      "Columnas MUERTE VIOLENTA = 0\n",
      "Columnas NECROPSIA = 0\n",
      "Columnas CAUSA = 0\n"
     ]
    }
   ],
   "source": [
    "# Se crea una función para ver las columnas que tiene algún dato nulo\n",
    "def datos_nulos(data):\n",
    "    columnas = data.columns.values.tolist()\n",
    "    for c,i in enumerate(columnas):\n",
    "        p = columnas[c]\n",
    "        v = pd.isna(data[columnas[c]]).values.ravel().sum()\n",
    "        print(\"Columnas {} = {}\".format(p, v))\n",
    "datos_nulos(data_mc)"
   ]
  },
  {
   "cell_type": "code",
   "execution_count": 34,
   "metadata": {},
   "outputs": [
    {
     "data": {
      "text/plain": [
       "array(['SOLTERO', 'IGNORADO', 'CASADO', 'SIN REGISTRO', 'VIUDO',\n",
       "       'CONVIVIENT/CONCUBINA', 'DIVORCIADO', 'SEPARADO'], dtype=object)"
      ]
     },
     "execution_count": 34,
     "metadata": {},
     "output_type": "execute_result"
    }
   ],
   "source": [
    "data_mc[\"ESTADO CIVIL\"].unique()"
   ]
  },
  {
   "cell_type": "code",
   "execution_count": 35,
   "metadata": {},
   "outputs": [],
   "source": [
    "data_mc[\"ESTADO CIVIL\"] = np.where(data_mc[\"ESTADO CIVIL\"]==\"SIN REGISTRO\", \"SOLTERO\", data_mc[\"ESTADO CIVIL\"])\n",
    "data_mc[\"ESTADO CIVIL\"] = np.where(data_mc[\"ESTADO CIVIL\"]==\"IGNORADO\", \"SOLTERO\", data_mc[\"ESTADO CIVIL\"])"
   ]
  },
  {
   "cell_type": "code",
   "execution_count": 36,
   "metadata": {},
   "outputs": [
    {
     "data": {
      "text/plain": [
       "array(['SOLTERO', 'CASADO', 'VIUDO', 'CONVIVIENT/CONCUBINA', 'DIVORCIADO',\n",
       "       'SEPARADO'], dtype=object)"
      ]
     },
     "execution_count": 36,
     "metadata": {},
     "output_type": "execute_result"
    }
   ],
   "source": [
    "data_mc[\"ESTADO CIVIL\"].unique()"
   ]
  },
  {
   "cell_type": "code",
   "execution_count": 40,
   "metadata": {},
   "outputs": [
    {
     "data": {
      "text/plain": [
       "array(['INSUFICIENCIA RESPIRATORIA AGUDA', 'ASFIXIA DE NACIMIENTO SEVERA',\n",
       "       'TRAUMATISMOS MULTIPLES', ...,\n",
       "       'TUMOR MALIGNO DEL TEJIDO CONJUNTIVO Y TEJIDO BLANDO, DE SITIO NO ESPECIFICADO',\n",
       "       'OTRAS MALFORMACIONES CONGÉNITAS DEL ENCÉFALO, ESPECIFICADAS',\n",
       "       'MENINGITIS CRÓNICA'], dtype=object)"
      ]
     },
     "execution_count": 40,
     "metadata": {},
     "output_type": "execute_result"
    }
   ],
   "source": [
    "data_mc[\"CAUSA\"].unique()"
   ]
  },
  {
   "cell_type": "code",
   "execution_count": 41,
   "metadata": {},
   "outputs": [],
   "source": [
    "data_mc[\"CAUSA\"] = np.where(data_mc[\"CAUSA\"]==\"...\", \"SIN REGISTRO\", data_mc[\"CAUSA\"])"
   ]
  },
  {
   "cell_type": "code",
   "execution_count": 42,
   "metadata": {},
   "outputs": [
    {
     "data": {
      "text/plain": [
       "array(['INSUFICIENCIA RESPIRATORIA AGUDA', 'ASFIXIA DE NACIMIENTO SEVERA',\n",
       "       'TRAUMATISMOS MULTIPLES', ...,\n",
       "       'TUMOR MALIGNO DEL TEJIDO CONJUNTIVO Y TEJIDO BLANDO, DE SITIO NO ESPECIFICADO',\n",
       "       'OTRAS MALFORMACIONES CONGÉNITAS DEL ENCÉFALO, ESPECIFICADAS',\n",
       "       'MENINGITIS CRÓNICA'], dtype=object)"
      ]
     },
     "execution_count": 42,
     "metadata": {},
     "output_type": "execute_result"
    }
   ],
   "source": [
    "sns.set_style('darkgrid')\n",
    "sns.countplot(x='Survived', hue='Sex', data=data)"
   ]
  },
  {
   "cell_type": "code",
   "execution_count": null,
   "metadata": {},
   "outputs": [],
   "source": []
  },
  {
   "cell_type": "code",
   "execution_count": null,
   "metadata": {},
   "outputs": [],
   "source": []
  },
  {
   "cell_type": "code",
   "execution_count": null,
   "metadata": {},
   "outputs": [],
   "source": []
  },
  {
   "cell_type": "code",
   "execution_count": null,
   "metadata": {},
   "outputs": [],
   "source": []
  },
  {
   "cell_type": "code",
   "execution_count": null,
   "metadata": {},
   "outputs": [],
   "source": []
  },
  {
   "cell_type": "code",
   "execution_count": null,
   "metadata": {},
   "outputs": [],
   "source": []
  },
  {
   "cell_type": "code",
   "execution_count": null,
   "metadata": {},
   "outputs": [],
   "source": []
  },
  {
   "cell_type": "code",
   "execution_count": null,
   "metadata": {},
   "outputs": [],
   "source": []
  },
  {
   "cell_type": "code",
   "execution_count": null,
   "metadata": {},
   "outputs": [],
   "source": []
  },
  {
   "cell_type": "code",
   "execution_count": null,
   "metadata": {},
   "outputs": [],
   "source": []
  },
  {
   "cell_type": "code",
   "execution_count": null,
   "metadata": {},
   "outputs": [],
   "source": []
  },
  {
   "cell_type": "code",
   "execution_count": null,
   "metadata": {},
   "outputs": [],
   "source": []
  },
  {
   "cell_type": "code",
   "execution_count": null,
   "metadata": {},
   "outputs": [],
   "source": []
  },
  {
   "cell_type": "code",
   "execution_count": null,
   "metadata": {},
   "outputs": [],
   "source": []
  },
  {
   "cell_type": "code",
   "execution_count": null,
   "metadata": {},
   "outputs": [],
   "source": []
  },
  {
   "cell_type": "code",
   "execution_count": null,
   "metadata": {},
   "outputs": [],
   "source": []
  },
  {
   "cell_type": "code",
   "execution_count": null,
   "metadata": {},
   "outputs": [],
   "source": []
  },
  {
   "cell_type": "code",
   "execution_count": null,
   "metadata": {},
   "outputs": [],
   "source": []
  },
  {
   "cell_type": "code",
   "execution_count": null,
   "metadata": {},
   "outputs": [],
   "source": []
  },
  {
   "cell_type": "code",
   "execution_count": null,
   "metadata": {},
   "outputs": [],
   "source": []
  }
 ],
 "metadata": {
  "kernelspec": {
   "display_name": "Python 3",
   "language": "python",
   "name": "python3"
  },
  "language_info": {
   "codemirror_mode": {
    "name": "ipython",
    "version": 3
   },
   "file_extension": ".py",
   "mimetype": "text/x-python",
   "name": "python",
   "nbconvert_exporter": "python",
   "pygments_lexer": "ipython3",
   "version": "3.7.3"
  }
 },
 "nbformat": 4,
 "nbformat_minor": 2
}
