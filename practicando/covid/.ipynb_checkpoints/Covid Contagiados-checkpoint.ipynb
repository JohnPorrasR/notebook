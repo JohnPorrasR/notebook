{
 "cells": [
  {
   "cell_type": "markdown",
   "metadata": {},
   "source": [
    "## Visualización Infectados de Covid 19"
   ]
  },
  {
   "cell_type": "code",
   "execution_count": 1,
   "metadata": {},
   "outputs": [],
   "source": [
    "# Importamos todos los paquetes que vamos a necesitar\n",
    "import pandas as pd\n",
    "import numpy as np\n",
    "import seaborn as sns\n",
    "import matplotlib.pyplot as plt\n",
    "from math import sqrt"
   ]
  },
  {
   "cell_type": "code",
   "execution_count": 2,
   "metadata": {},
   "outputs": [],
   "source": [
    "# cargamos nuestro dataset\n",
    "data = pd.read_csv('datasets/positivos_covid.csv', sep=';')"
   ]
  },
  {
   "cell_type": "code",
   "execution_count": 3,
   "metadata": {},
   "outputs": [
    {
     "data": {
      "text/html": [
       "<div>\n",
       "<style scoped>\n",
       "    .dataframe tbody tr th:only-of-type {\n",
       "        vertical-align: middle;\n",
       "    }\n",
       "\n",
       "    .dataframe tbody tr th {\n",
       "        vertical-align: top;\n",
       "    }\n",
       "\n",
       "    .dataframe thead th {\n",
       "        text-align: right;\n",
       "    }\n",
       "</style>\n",
       "<table border=\"1\" class=\"dataframe\">\n",
       "  <thead>\n",
       "    <tr style=\"text-align: right;\">\n",
       "      <th></th>\n",
       "      <th>FECHA_CORTE</th>\n",
       "      <th>UUID</th>\n",
       "      <th>DEPARTAMENTO</th>\n",
       "      <th>PROVINCIA</th>\n",
       "      <th>DISTRITO</th>\n",
       "      <th>METODODX</th>\n",
       "      <th>EDAD</th>\n",
       "      <th>SEXO</th>\n",
       "      <th>FECHA_RESULTADO</th>\n",
       "    </tr>\n",
       "  </thead>\n",
       "  <tbody>\n",
       "    <tr>\n",
       "      <th>0</th>\n",
       "      <td>20210306</td>\n",
       "      <td>7320cabdc1aaca6c59014cae76a134e6</td>\n",
       "      <td>AYACUCHO</td>\n",
       "      <td>HUAMANGA</td>\n",
       "      <td>AYACUCHO</td>\n",
       "      <td>PR</td>\n",
       "      <td>31.0</td>\n",
       "      <td>FEMENINO</td>\n",
       "      <td>20200911.0</td>\n",
       "    </tr>\n",
       "    <tr>\n",
       "      <th>1</th>\n",
       "      <td>20210306</td>\n",
       "      <td>e81602051997ace8340bb8c18fe24c65</td>\n",
       "      <td>ICA</td>\n",
       "      <td>ICA</td>\n",
       "      <td>ICA</td>\n",
       "      <td>PR</td>\n",
       "      <td>32.0</td>\n",
       "      <td>FEMENINO</td>\n",
       "      <td>20200911.0</td>\n",
       "    </tr>\n",
       "    <tr>\n",
       "      <th>2</th>\n",
       "      <td>20210306</td>\n",
       "      <td>71ecb6bccb248b0bb2ac72ed51b5e979</td>\n",
       "      <td>AYACUCHO</td>\n",
       "      <td>HUAMANGA</td>\n",
       "      <td>AYACUCHO</td>\n",
       "      <td>PR</td>\n",
       "      <td>42.0</td>\n",
       "      <td>FEMENINO</td>\n",
       "      <td>20200911.0</td>\n",
       "    </tr>\n",
       "    <tr>\n",
       "      <th>3</th>\n",
       "      <td>20210306</td>\n",
       "      <td>566af4276cbe9359abe93f9aa86396c3</td>\n",
       "      <td>ICA</td>\n",
       "      <td>ICA</td>\n",
       "      <td>PARCONA</td>\n",
       "      <td>PR</td>\n",
       "      <td>53.0</td>\n",
       "      <td>FEMENINO</td>\n",
       "      <td>20200911.0</td>\n",
       "    </tr>\n",
       "    <tr>\n",
       "      <th>4</th>\n",
       "      <td>20210306</td>\n",
       "      <td>027561e9d126e7c283d79c02cede562d</td>\n",
       "      <td>JUNIN</td>\n",
       "      <td>HUANCAYO</td>\n",
       "      <td>EL TAMBO</td>\n",
       "      <td>PR</td>\n",
       "      <td>52.0</td>\n",
       "      <td>FEMENINO</td>\n",
       "      <td>20200911.0</td>\n",
       "    </tr>\n",
       "  </tbody>\n",
       "</table>\n",
       "</div>"
      ],
      "text/plain": [
       "   FECHA_CORTE                              UUID DEPARTAMENTO PROVINCIA  \\\n",
       "0     20210306  7320cabdc1aaca6c59014cae76a134e6     AYACUCHO  HUAMANGA   \n",
       "1     20210306  e81602051997ace8340bb8c18fe24c65          ICA       ICA   \n",
       "2     20210306  71ecb6bccb248b0bb2ac72ed51b5e979     AYACUCHO  HUAMANGA   \n",
       "3     20210306  566af4276cbe9359abe93f9aa86396c3          ICA       ICA   \n",
       "4     20210306  027561e9d126e7c283d79c02cede562d        JUNIN  HUANCAYO   \n",
       "\n",
       "   DISTRITO METODODX  EDAD      SEXO  FECHA_RESULTADO  \n",
       "0  AYACUCHO       PR  31.0  FEMENINO       20200911.0  \n",
       "1       ICA       PR  32.0  FEMENINO       20200911.0  \n",
       "2  AYACUCHO       PR  42.0  FEMENINO       20200911.0  \n",
       "3   PARCONA       PR  53.0  FEMENINO       20200911.0  \n",
       "4  EL TAMBO       PR  52.0  FEMENINO       20200911.0  "
      ]
     },
     "execution_count": 3,
     "metadata": {},
     "output_type": "execute_result"
    }
   ],
   "source": [
    "data.head()"
   ]
  },
  {
   "cell_type": "code",
   "execution_count": 4,
   "metadata": {},
   "outputs": [
    {
     "name": "stdout",
     "output_type": "stream",
     "text": [
      "<class 'pandas.core.frame.DataFrame'>\n",
      "RangeIndex: 1371176 entries, 0 to 1371175\n",
      "Data columns (total 9 columns):\n",
      " #   Column           Non-Null Count    Dtype  \n",
      "---  ------           --------------    -----  \n",
      " 0   FECHA_CORTE      1371176 non-null  int64  \n",
      " 1   UUID             1371176 non-null  object \n",
      " 2   DEPARTAMENTO     1371176 non-null  object \n",
      " 3   PROVINCIA        1371176 non-null  object \n",
      " 4   DISTRITO         1371176 non-null  object \n",
      " 5   METODODX         1371176 non-null  object \n",
      " 6   EDAD             1370866 non-null  float64\n",
      " 7   SEXO             1371176 non-null  object \n",
      " 8   FECHA_RESULTADO  1369153 non-null  float64\n",
      "dtypes: float64(2), int64(1), object(6)\n",
      "memory usage: 94.2+ MB\n"
     ]
    }
   ],
   "source": [
    "# miramos ahora las tipologia de variables que tenemos\n",
    "data.info()"
   ]
  },
  {
   "cell_type": "code",
   "execution_count": 5,
   "metadata": {},
   "outputs": [
    {
     "data": {
      "text/html": [
       "<div>\n",
       "<style scoped>\n",
       "    .dataframe tbody tr th:only-of-type {\n",
       "        vertical-align: middle;\n",
       "    }\n",
       "\n",
       "    .dataframe tbody tr th {\n",
       "        vertical-align: top;\n",
       "    }\n",
       "\n",
       "    .dataframe thead th {\n",
       "        text-align: right;\n",
       "    }\n",
       "</style>\n",
       "<table border=\"1\" class=\"dataframe\">\n",
       "  <thead>\n",
       "    <tr style=\"text-align: right;\">\n",
       "      <th></th>\n",
       "      <th>FECHA_CORTE</th>\n",
       "      <th>EDAD</th>\n",
       "      <th>FECHA_RESULTADO</th>\n",
       "    </tr>\n",
       "  </thead>\n",
       "  <tbody>\n",
       "    <tr>\n",
       "      <th>count</th>\n",
       "      <td>1371176.0</td>\n",
       "      <td>1.370866e+06</td>\n",
       "      <td>1.369153e+06</td>\n",
       "    </tr>\n",
       "    <tr>\n",
       "      <th>mean</th>\n",
       "      <td>20210306.0</td>\n",
       "      <td>4.227923e+01</td>\n",
       "      <td>2.020318e+07</td>\n",
       "    </tr>\n",
       "    <tr>\n",
       "      <th>std</th>\n",
       "      <td>0.0</td>\n",
       "      <td>1.784619e+01</td>\n",
       "      <td>4.098231e+03</td>\n",
       "    </tr>\n",
       "    <tr>\n",
       "      <th>min</th>\n",
       "      <td>20210306.0</td>\n",
       "      <td>0.000000e+00</td>\n",
       "      <td>2.020031e+07</td>\n",
       "    </tr>\n",
       "    <tr>\n",
       "      <th>25%</th>\n",
       "      <td>20210306.0</td>\n",
       "      <td>2.900000e+01</td>\n",
       "      <td>2.020071e+07</td>\n",
       "    </tr>\n",
       "    <tr>\n",
       "      <th>50%</th>\n",
       "      <td>20210306.0</td>\n",
       "      <td>4.100000e+01</td>\n",
       "      <td>2.020083e+07</td>\n",
       "    </tr>\n",
       "    <tr>\n",
       "      <th>75%</th>\n",
       "      <td>20210306.0</td>\n",
       "      <td>5.400000e+01</td>\n",
       "      <td>2.021010e+07</td>\n",
       "    </tr>\n",
       "    <tr>\n",
       "      <th>max</th>\n",
       "      <td>20210306.0</td>\n",
       "      <td>1.210000e+02</td>\n",
       "      <td>2.021031e+07</td>\n",
       "    </tr>\n",
       "  </tbody>\n",
       "</table>\n",
       "</div>"
      ],
      "text/plain": [
       "       FECHA_CORTE          EDAD  FECHA_RESULTADO\n",
       "count    1371176.0  1.370866e+06     1.369153e+06\n",
       "mean    20210306.0  4.227923e+01     2.020318e+07\n",
       "std            0.0  1.784619e+01     4.098231e+03\n",
       "min     20210306.0  0.000000e+00     2.020031e+07\n",
       "25%     20210306.0  2.900000e+01     2.020071e+07\n",
       "50%     20210306.0  4.100000e+01     2.020083e+07\n",
       "75%     20210306.0  5.400000e+01     2.021010e+07\n",
       "max     20210306.0  1.210000e+02     2.021031e+07"
      ]
     },
     "execution_count": 5,
     "metadata": {},
     "output_type": "execute_result"
    }
   ],
   "source": [
    "data.describe()"
   ]
  },
  {
   "cell_type": "code",
   "execution_count": 6,
   "metadata": {},
   "outputs": [
    {
     "data": {
      "text/plain": [
       "array(['AYACUCHO', 'ICA', 'JUNIN', 'HUANUCO', 'HUANCAVELICA', 'LIMA',\n",
       "       'LIMA REGION', 'CALLAO', 'PIURA', 'ANCASH', 'LA LIBERTAD',\n",
       "       'LAMBAYEQUE', 'TUMBES', 'CAJAMARCA', 'SAN MARTIN', 'UCAYALI',\n",
       "       'AREQUIPA', 'CUSCO', 'MOQUEGUA', 'PUNO', 'TACNA', 'MADRE DE DIOS',\n",
       "       'APURIMAC', 'PASCO', 'AMAZONAS', 'LORETO'], dtype=object)"
      ]
     },
     "execution_count": 6,
     "metadata": {},
     "output_type": "execute_result"
    }
   ],
   "source": [
    "data['DEPARTAMENTO'].unique()"
   ]
  },
  {
   "cell_type": "code",
   "execution_count": 6,
   "metadata": {},
   "outputs": [
    {
     "data": {
      "text/plain": [
       "0    48.0\n",
       "1    57.0\n",
       "2    30.0\n",
       "3    38.0\n",
       "4    40.0\n",
       "Name: EDAD, dtype: float64"
      ]
     },
     "execution_count": 6,
     "metadata": {},
     "output_type": "execute_result"
    }
   ],
   "source": [
    "data['EDAD'].head()"
   ]
  },
  {
   "cell_type": "code",
   "execution_count": 7,
   "metadata": {},
   "outputs": [
    {
     "data": {
      "text/plain": [
       "42.01545608940361"
      ]
     },
     "execution_count": 7,
     "metadata": {},
     "output_type": "execute_result"
    }
   ],
   "source": [
    "data['EDAD'].mean()"
   ]
  },
  {
   "cell_type": "code",
   "execution_count": 8,
   "metadata": {},
   "outputs": [
    {
     "data": {
      "text/plain": [
       "<matplotlib.axes._subplots.AxesSubplot at 0x1dc900e7d30>"
      ]
     },
     "execution_count": 8,
     "metadata": {},
     "output_type": "execute_result"
    },
    {
     "data": {
      "image/png": "[encoded data removed]",
      "text/plain": [
       "<Figure size 432x288 with 1 Axes>"
      ]
     },
     "metadata": {
      "needs_background": "light"
     },
     "output_type": "display_data"
    }
   ],
   "source": [
    "# Visualizar grafico de barras según el sexo\n",
    "sns.countplot(x='SEXO', data=data)"
   ]
  },
  {
   "cell_type": "code",
   "execution_count": 7,
   "metadata": {},
   "outputs": [
    {
     "data": {
      "text/plain": [
       "<AxesSubplot:xlabel='DEPARTAMENTO', ylabel='count'>"
      ]
     },
     "execution_count": 7,
     "metadata": {},
     "output_type": "execute_result"
    },
    {
     "data": {
      "image/png": "[encoded data removed]",
      "text/plain": [
       "<Figure size 432x288 with 1 Axes>"
      ]
     },
     "metadata": {
      "needs_background": "light"
     },
     "output_type": "display_data"
    }
   ],
   "source": [
    "# Visualizar grafico de barras según el sexo\n",
    "sns.countplot(x='DEPARTAMENTO', data=data, hue='SEXO')"
   ]
  },
  {
   "cell_type": "code",
   "execution_count": 14,
   "metadata": {},
   "outputs": [
    {
     "data": {
      "text/plain": [
       "<AxesSubplot:xlabel='METODODX', ylabel='count'>"
      ]
     },
     "execution_count": 14,
     "metadata": {},
     "output_type": "execute_result"
    },
    {
     "data": {
      "image/png": "[encoded data removed]",
      "text/plain": [
       "<Figure size 432x288 with 1 Axes>"
      ]
     },
     "metadata": {
      "needs_background": "light"
     },
     "output_type": "display_data"
    }
   ],
   "source": [
    "# Visualizar grafico de barras según el METODODX\n",
    "sns.countplot(x='METODODX', data=data)"
   ]
  },
  {
   "cell_type": "code",
   "execution_count": 11,
   "metadata": {},
   "outputs": [
    {
     "data": {
      "text/plain": [
       "0     TUMBES\n",
       "1     TUMBES\n",
       "2     TUMBES\n",
       "3     TUMBES\n",
       "4    UCAYALI\n",
       "Name: DEPARTAMENTO, dtype: object"
      ]
     },
     "execution_count": 11,
     "metadata": {},
     "output_type": "execute_result"
    }
   ],
   "source": [
    "data['DEPARTAMENTO'].head()"
   ]
  },
  {
   "cell_type": "code",
   "execution_count": 21,
   "metadata": {},
   "outputs": [
    {
     "data": {
      "text/plain": [
       "array(['PR', 'AG', 'PCR'], dtype=object)"
      ]
     },
     "execution_count": 21,
     "metadata": {},
     "output_type": "execute_result"
    }
   ],
   "source": [
    "data['METODODX'].unique()"
   ]
  },
  {
   "cell_type": "code",
   "execution_count": 18,
   "metadata": {},
   "outputs": [],
   "source": [
    "data.drop(['FECHA_CORTE', 'UUID'], axis=1,inplace=True)"
   ]
  },
  {
   "cell_type": "code",
   "execution_count": 31,
   "metadata": {},
   "outputs": [],
   "source": [
    "data['FECHA_RESULTADO'] = pd.to_datetime(data['FECHA_RESULTADO'], format='%Y%m%d')\n",
    "data['ANIO'] = (data['FECHA_RESULTADO'].dt.year)\n",
    "data['MES'] = (data['FECHA_RESULTADO'].dt.month)\n",
    "data['DIA'] = (data['FECHA_RESULTADO'].dt.day)"
   ]
  },
  {
   "cell_type": "code",
   "execution_count": 32,
   "metadata": {},
   "outputs": [
    {
     "data": {
      "text/html": [
       "<div>\n",
       "<style scoped>\n",
       "    .dataframe tbody tr th:only-of-type {\n",
       "        vertical-align: middle;\n",
       "    }\n",
       "\n",
       "    .dataframe tbody tr th {\n",
       "        vertical-align: top;\n",
       "    }\n",
       "\n",
       "    .dataframe thead th {\n",
       "        text-align: right;\n",
       "    }\n",
       "</style>\n",
       "<table border=\"1\" class=\"dataframe\">\n",
       "  <thead>\n",
       "    <tr style=\"text-align: right;\">\n",
       "      <th></th>\n",
       "      <th>DEPARTAMENTO</th>\n",
       "      <th>PROVINCIA</th>\n",
       "      <th>DISTRITO</th>\n",
       "      <th>METODODX</th>\n",
       "      <th>EDAD</th>\n",
       "      <th>SEXO</th>\n",
       "      <th>FECHA_RESULTADO</th>\n",
       "      <th>ANIO</th>\n",
       "      <th>MES</th>\n",
       "      <th>DIA</th>\n",
       "    </tr>\n",
       "  </thead>\n",
       "  <tbody>\n",
       "    <tr>\n",
       "      <th>0</th>\n",
       "      <td>AYACUCHO</td>\n",
       "      <td>HUAMANGA</td>\n",
       "      <td>AYACUCHO</td>\n",
       "      <td>PR</td>\n",
       "      <td>31.0</td>\n",
       "      <td>FEMENINO</td>\n",
       "      <td>2020-09-11</td>\n",
       "      <td>2020.0</td>\n",
       "      <td>9.0</td>\n",
       "      <td>11.0</td>\n",
       "    </tr>\n",
       "    <tr>\n",
       "      <th>1</th>\n",
       "      <td>ICA</td>\n",
       "      <td>ICA</td>\n",
       "      <td>ICA</td>\n",
       "      <td>PR</td>\n",
       "      <td>32.0</td>\n",
       "      <td>FEMENINO</td>\n",
       "      <td>2020-09-11</td>\n",
       "      <td>2020.0</td>\n",
       "      <td>9.0</td>\n",
       "      <td>11.0</td>\n",
       "    </tr>\n",
       "    <tr>\n",
       "      <th>2</th>\n",
       "      <td>AYACUCHO</td>\n",
       "      <td>HUAMANGA</td>\n",
       "      <td>AYACUCHO</td>\n",
       "      <td>PR</td>\n",
       "      <td>42.0</td>\n",
       "      <td>FEMENINO</td>\n",
       "      <td>2020-09-11</td>\n",
       "      <td>2020.0</td>\n",
       "      <td>9.0</td>\n",
       "      <td>11.0</td>\n",
       "    </tr>\n",
       "    <tr>\n",
       "      <th>3</th>\n",
       "      <td>ICA</td>\n",
       "      <td>ICA</td>\n",
       "      <td>PARCONA</td>\n",
       "      <td>PR</td>\n",
       "      <td>53.0</td>\n",
       "      <td>FEMENINO</td>\n",
       "      <td>2020-09-11</td>\n",
       "      <td>2020.0</td>\n",
       "      <td>9.0</td>\n",
       "      <td>11.0</td>\n",
       "    </tr>\n",
       "    <tr>\n",
       "      <th>4</th>\n",
       "      <td>JUNIN</td>\n",
       "      <td>HUANCAYO</td>\n",
       "      <td>EL TAMBO</td>\n",
       "      <td>PR</td>\n",
       "      <td>52.0</td>\n",
       "      <td>FEMENINO</td>\n",
       "      <td>2020-09-11</td>\n",
       "      <td>2020.0</td>\n",
       "      <td>9.0</td>\n",
       "      <td>11.0</td>\n",
       "    </tr>\n",
       "  </tbody>\n",
       "</table>\n",
       "</div>"
      ],
      "text/plain": [
       "  DEPARTAMENTO PROVINCIA  DISTRITO METODODX  EDAD      SEXO FECHA_RESULTADO  \\\n",
       "0     AYACUCHO  HUAMANGA  AYACUCHO       PR  31.0  FEMENINO      2020-09-11   \n",
       "1          ICA       ICA       ICA       PR  32.0  FEMENINO      2020-09-11   \n",
       "2     AYACUCHO  HUAMANGA  AYACUCHO       PR  42.0  FEMENINO      2020-09-11   \n",
       "3          ICA       ICA   PARCONA       PR  53.0  FEMENINO      2020-09-11   \n",
       "4        JUNIN  HUANCAYO  EL TAMBO       PR  52.0  FEMENINO      2020-09-11   \n",
       "\n",
       "     ANIO  MES   DIA  \n",
       "0  2020.0  9.0  11.0  \n",
       "1  2020.0  9.0  11.0  \n",
       "2  2020.0  9.0  11.0  \n",
       "3  2020.0  9.0  11.0  \n",
       "4  2020.0  9.0  11.0  "
      ]
     },
     "execution_count": 32,
     "metadata": {},
     "output_type": "execute_result"
    }
   ],
   "source": [
    "data.head()"
   ]
  },
  {
   "cell_type": "code",
   "execution_count": null,
   "metadata": {},
   "outputs": [],
   "source": []
  }
 ],
 "metadata": {
  "kernelspec": {
   "display_name": "Python 3",
   "language": "python",
   "name": "python3"
  },
  "language_info": {
   "codemirror_mode": {
    "name": "ipython",
    "version": 3
   },
   "file_extension": ".py",
   "mimetype": "text/x-python",
   "name": "python",
   "nbconvert_exporter": "python",
   "pygments_lexer": "ipython3",
   "version": "3.8.5"
  }
 },
 "nbformat": 4,
 "nbformat_minor": 4
}
