{
 "cells": [
  {
   "cell_type": "code",
   "execution_count": 1,
   "metadata": {},
   "outputs": [],
   "source": [
    "# Importamos todos los paquetes que vamos a necesitar\n",
    "import pandas as pd\n",
    "import numpy as np\n",
    "import seaborn as sns\n",
    "import matplotlib.pyplot as plt\n",
    "from math import sqrt\n",
    "import seaborn as sns"
   ]
  },
  {
   "cell_type": "code",
   "execution_count": 85,
   "metadata": {},
   "outputs": [],
   "source": [
    "# cargamos nuestro dataset\n",
    "data = pd.read_csv('datasets/fallecidos_covid.csv', engine = 'python', sep=';')"
   ]
  },
  {
   "cell_type": "code",
   "execution_count": 86,
   "metadata": {},
   "outputs": [
    {
     "data": {
      "text/html": [
       "<div>\n",
       "<style scoped>\n",
       "    .dataframe tbody tr th:only-of-type {\n",
       "        vertical-align: middle;\n",
       "    }\n",
       "\n",
       "    .dataframe tbody tr th {\n",
       "        vertical-align: top;\n",
       "    }\n",
       "\n",
       "    .dataframe thead th {\n",
       "        text-align: right;\n",
       "    }\n",
       "</style>\n",
       "<table border=\"1\" class=\"dataframe\">\n",
       "  <thead>\n",
       "    <tr style=\"text-align: right;\">\n",
       "      <th></th>\n",
       "      <th>FECHA_CORTE</th>\n",
       "      <th>UUID</th>\n",
       "      <th>FECHA_FALLECIMIENTO</th>\n",
       "      <th>EDAD_DECLARADA</th>\n",
       "      <th>SEXO</th>\n",
       "      <th>FECHA_NAC</th>\n",
       "      <th>DEPARTAMENTO</th>\n",
       "      <th>PROVINCIA</th>\n",
       "      <th>DISTRITO</th>\n",
       "    </tr>\n",
       "  </thead>\n",
       "  <tbody>\n",
       "    <tr>\n",
       "      <th>0</th>\n",
       "      <td>20210220</td>\n",
       "      <td>10be23dc2d9ed258be9bbb086a8c99a9</td>\n",
       "      <td>20200511</td>\n",
       "      <td>62</td>\n",
       "      <td>FEMENINO</td>\n",
       "      <td>19580311.0</td>\n",
       "      <td>LIMA</td>\n",
       "      <td>LIMA</td>\n",
       "      <td>MAGDALENA DEL MAR</td>\n",
       "    </tr>\n",
       "    <tr>\n",
       "      <th>1</th>\n",
       "      <td>20210220</td>\n",
       "      <td>1cb3e2064fdd925369f547795a6b5f8f</td>\n",
       "      <td>20200429</td>\n",
       "      <td>55</td>\n",
       "      <td>MASCULINO</td>\n",
       "      <td>19641220.0</td>\n",
       "      <td>LORETO</td>\n",
       "      <td>MAYNAS</td>\n",
       "      <td>IQUITOS</td>\n",
       "    </tr>\n",
       "    <tr>\n",
       "      <th>2</th>\n",
       "      <td>20210220</td>\n",
       "      <td>0a226f18516d5fb46842551f9dd380b4</td>\n",
       "      <td>20200508</td>\n",
       "      <td>67</td>\n",
       "      <td>MASCULINO</td>\n",
       "      <td>NaN</td>\n",
       "      <td>CALLAO</td>\n",
       "      <td>NaN</td>\n",
       "      <td>CALLAO</td>\n",
       "    </tr>\n",
       "    <tr>\n",
       "      <th>3</th>\n",
       "      <td>20210220</td>\n",
       "      <td>b9a28aa80bb40f0288e1dc873a885b66</td>\n",
       "      <td>20200506</td>\n",
       "      <td>77</td>\n",
       "      <td>MASCULINO</td>\n",
       "      <td>NaN</td>\n",
       "      <td>LORETO</td>\n",
       "      <td>NaN</td>\n",
       "      <td>NaN</td>\n",
       "    </tr>\n",
       "    <tr>\n",
       "      <th>4</th>\n",
       "      <td>20210220</td>\n",
       "      <td>d518d078409c2289987786adcc163b32</td>\n",
       "      <td>20200511</td>\n",
       "      <td>81</td>\n",
       "      <td>MASCULINO</td>\n",
       "      <td>19380717.0</td>\n",
       "      <td>LIMA</td>\n",
       "      <td>LIMA</td>\n",
       "      <td>SAN JUAN DE MIRAFLORES</td>\n",
       "    </tr>\n",
       "  </tbody>\n",
       "</table>\n",
       "</div>"
      ],
      "text/plain": [
       "   FECHA_CORTE                              UUID  FECHA_FALLECIMIENTO  \\\n",
       "0     20210220  10be23dc2d9ed258be9bbb086a8c99a9             20200511   \n",
       "1     20210220  1cb3e2064fdd925369f547795a6b5f8f             20200429   \n",
       "2     20210220  0a226f18516d5fb46842551f9dd380b4             20200508   \n",
       "3     20210220  b9a28aa80bb40f0288e1dc873a885b66             20200506   \n",
       "4     20210220  d518d078409c2289987786adcc163b32             20200511   \n",
       "\n",
       "   EDAD_DECLARADA       SEXO   FECHA_NAC DEPARTAMENTO PROVINCIA  \\\n",
       "0              62   FEMENINO  19580311.0         LIMA      LIMA   \n",
       "1              55  MASCULINO  19641220.0       LORETO    MAYNAS   \n",
       "2              67  MASCULINO         NaN       CALLAO       NaN   \n",
       "3              77  MASCULINO         NaN       LORETO       NaN   \n",
       "4              81  MASCULINO  19380717.0         LIMA      LIMA   \n",
       "\n",
       "                 DISTRITO  \n",
       "0       MAGDALENA DEL MAR  \n",
       "1                 IQUITOS  \n",
       "2                  CALLAO  \n",
       "3                     NaN  \n",
       "4  SAN JUAN DE MIRAFLORES  "
      ]
     },
     "execution_count": 86,
     "metadata": {},
     "output_type": "execute_result"
    }
   ],
   "source": [
    "data.head()"
   ]
  },
  {
   "cell_type": "code",
   "execution_count": 87,
   "metadata": {},
   "outputs": [
    {
     "data": {
      "text/plain": [
       "<AxesSubplot:xlabel='SEXO', ylabel='count'>"
      ]
     },
     "execution_count": 87,
     "metadata": {},
     "output_type": "execute_result"
    },
    {
     "data": {
      "image/png": "[encoded data removed]",
      "text/plain": [
       "<Figure size 432x288 with 1 Axes>"
      ]
     },
     "metadata": {
      "needs_background": "light"
     },
     "output_type": "display_data"
    }
   ],
   "source": [
    "# Visualizar grafico de barras según el sexo\n",
    "sns.countplot(x='SEXO', data=data)"
   ]
  },
  {
   "cell_type": "code",
   "execution_count": 88,
   "metadata": {},
   "outputs": [
    {
     "data": {
      "text/plain": [
       "0        False\n",
       "1        False\n",
       "2        False\n",
       "3        False\n",
       "4        False\n",
       "         ...  \n",
       "45092    False\n",
       "45093    False\n",
       "45094    False\n",
       "45095    False\n",
       "45096    False\n",
       "Name: SEXO, Length: 45097, dtype: bool"
      ]
     },
     "execution_count": 88,
     "metadata": {},
     "output_type": "execute_result"
    }
   ],
   "source": [
    "# Cambiando el 10 por Femenino\n",
    "filter1 = data[\"SEXO\"] == '10'\n",
    "filter1"
   ]
  },
  {
   "cell_type": "code",
   "execution_count": 90,
   "metadata": {},
   "outputs": [],
   "source": [
    "data['SEXO'] = np.where(filter1, 'FEMENINO', data['SEXO'])"
   ]
  },
  {
   "cell_type": "code",
   "execution_count": 94,
   "metadata": {},
   "outputs": [],
   "source": [
    "# cambiando el 11 por masculino\n",
    "filter2 = data[\"SEXO\"] == '11'\n",
    "data['SEXO'] = np.where(filter2, 'MASCULINO', data['SEXO'])"
   ]
  },
  {
   "cell_type": "code",
   "execution_count": 95,
   "metadata": {},
   "outputs": [
    {
     "data": {
      "text/plain": [
       "<AxesSubplot:xlabel='SEXO', ylabel='count'>"
      ]
     },
     "execution_count": 95,
     "metadata": {},
     "output_type": "execute_result"
    },
    {
     "data": {
      "image/png": "[encoded data removed]",
      "text/plain": [
       "<Figure size 432x288 with 1 Axes>"
      ]
     },
     "metadata": {
      "needs_background": "light"
     },
     "output_type": "display_data"
    }
   ],
   "source": [
    "# Visualizar grafico de barras según el sexo\n",
    "sns.countplot(x='SEXO', data=data)"
   ]
  },
  {
   "cell_type": "code",
   "execution_count": 96,
   "metadata": {},
   "outputs": [
    {
     "data": {
      "text/plain": [
       "65.92635873783179"
      ]
     },
     "execution_count": 96,
     "metadata": {},
     "output_type": "execute_result"
    }
   ],
   "source": [
    "data['EDAD_DECLARADA'].mean()"
   ]
  },
  {
   "cell_type": "code",
   "execution_count": 7,
   "metadata": {},
   "outputs": [
    {
     "name": "stderr",
     "output_type": "stream",
     "text": [
      "C:\\ProgramData\\Anaconda3\\lib\\site-packages\\seaborn\\distributions.py:2551: FutureWarning: `distplot` is a deprecated function and will be removed in a future version. Please adapt your code to use either `displot` (a figure-level function with similar flexibility) or `histplot` (an axes-level function for histograms).\n",
      "  warnings.warn(msg, FutureWarning)\n"
     ]
    },
    {
     "data": {
      "text/plain": [
       "<AxesSubplot:xlabel='EDAD_DECLARADA', ylabel='Density'>"
      ]
     },
     "execution_count": 7,
     "metadata": {},
     "output_type": "execute_result"
    },
    {
     "data": {
      "image/png": "[encoded data removed]",
      "text/plain": [
       "<Figure size 432x288 with 1 Axes>"
      ]
     },
     "metadata": {
      "needs_background": "light"
     },
     "output_type": "display_data"
    }
   ],
   "source": [
    "sns.distplot(data['EDAD_DECLARADA'])"
   ]
  },
  {
   "cell_type": "code",
   "execution_count": 56,
   "metadata": {},
   "outputs": [
    {
     "name": "stdout",
     "output_type": "stream",
     "text": [
      "<class 'pandas.core.frame.DataFrame'>\n",
      "RangeIndex: 45097 entries, 0 to 45096\n",
      "Data columns (total 11 columns):\n",
      " #   Column               Non-Null Count  Dtype  \n",
      "---  ------               --------------  -----  \n",
      " 0   FECHA_CORTE          45097 non-null  int64  \n",
      " 1   UUID                 45097 non-null  object \n",
      " 2   FECHA_FALLECIMIENTO  45097 non-null  int64  \n",
      " 3   EDAD_DECLARADA       45097 non-null  int64  \n",
      " 4   SEXO                 45097 non-null  object \n",
      " 5   FECHA_NAC            31747 non-null  float64\n",
      " 6   DEPARTAMENTO         45097 non-null  object \n",
      " 7   PROVINCIA            44246 non-null  object \n",
      " 8   DISTRITO             44776 non-null  object \n",
      " 9   ANIO                 45097 non-null  object \n",
      " 10  MES                  3 non-null      object \n",
      "dtypes: float64(1), int64(3), object(7)\n",
      "memory usage: 3.8+ MB\n"
     ]
    }
   ],
   "source": [
    "data.info()"
   ]
  },
  {
   "cell_type": "code",
   "execution_count": 107,
   "metadata": {},
   "outputs": [],
   "source": [
    "data['FECHA_FALLECIMIENTO'] = pd.to_datetime(data['FECHA_FALLECIMIENTO'], format='%Y%m%d')"
   ]
  },
  {
   "cell_type": "code",
   "execution_count": 125,
   "metadata": {},
   "outputs": [],
   "source": [
    "data['ANIO'] = data['FECHA_FALLECIMIENTO'].dt.year\n",
    "data['MES'] = data['FECHA_FALLECIMIENTO'].dt.month \n",
    "data['DIA'] = data['FECHA_FALLECIMIENTO'].dt.day\n",
    "data['VALOR'] = 1"
   ]
  },
  {
   "cell_type": "code",
   "execution_count": 126,
   "metadata": {},
   "outputs": [
    {
     "data": {
      "text/html": [
       "<div>\n",
       "<style scoped>\n",
       "    .dataframe tbody tr th:only-of-type {\n",
       "        vertical-align: middle;\n",
       "    }\n",
       "\n",
       "    .dataframe tbody tr th {\n",
       "        vertical-align: top;\n",
       "    }\n",
       "\n",
       "    .dataframe thead th {\n",
       "        text-align: right;\n",
       "    }\n",
       "</style>\n",
       "<table border=\"1\" class=\"dataframe\">\n",
       "  <thead>\n",
       "    <tr style=\"text-align: right;\">\n",
       "      <th></th>\n",
       "      <th>FECHA_CORTE</th>\n",
       "      <th>UUID</th>\n",
       "      <th>FECHA_FALLECIMIENTO</th>\n",
       "      <th>EDAD_DECLARADA</th>\n",
       "      <th>SEXO</th>\n",
       "      <th>FECHA_NAC</th>\n",
       "      <th>DEPARTAMENTO</th>\n",
       "      <th>PROVINCIA</th>\n",
       "      <th>DISTRITO</th>\n",
       "      <th>ANIO</th>\n",
       "      <th>MES</th>\n",
       "      <th>DIA</th>\n",
       "      <th>valor</th>\n",
       "      <th>VALOR</th>\n",
       "    </tr>\n",
       "  </thead>\n",
       "  <tbody>\n",
       "    <tr>\n",
       "      <th>0</th>\n",
       "      <td>20210220</td>\n",
       "      <td>10be23dc2d9ed258be9bbb086a8c99a9</td>\n",
       "      <td>2020-05-11</td>\n",
       "      <td>62</td>\n",
       "      <td>FEMENINO</td>\n",
       "      <td>19580311.0</td>\n",
       "      <td>LIMA</td>\n",
       "      <td>LIMA</td>\n",
       "      <td>MAGDALENA DEL MAR</td>\n",
       "      <td>2020</td>\n",
       "      <td>5</td>\n",
       "      <td>11</td>\n",
       "      <td>1</td>\n",
       "      <td>1</td>\n",
       "    </tr>\n",
       "    <tr>\n",
       "      <th>1</th>\n",
       "      <td>20210220</td>\n",
       "      <td>1cb3e2064fdd925369f547795a6b5f8f</td>\n",
       "      <td>2020-04-29</td>\n",
       "      <td>55</td>\n",
       "      <td>MASCULINO</td>\n",
       "      <td>19641220.0</td>\n",
       "      <td>LORETO</td>\n",
       "      <td>MAYNAS</td>\n",
       "      <td>IQUITOS</td>\n",
       "      <td>2020</td>\n",
       "      <td>4</td>\n",
       "      <td>29</td>\n",
       "      <td>1</td>\n",
       "      <td>1</td>\n",
       "    </tr>\n",
       "    <tr>\n",
       "      <th>2</th>\n",
       "      <td>20210220</td>\n",
       "      <td>0a226f18516d5fb46842551f9dd380b4</td>\n",
       "      <td>2020-05-08</td>\n",
       "      <td>67</td>\n",
       "      <td>MASCULINO</td>\n",
       "      <td>NaN</td>\n",
       "      <td>CALLAO</td>\n",
       "      <td>NaN</td>\n",
       "      <td>CALLAO</td>\n",
       "      <td>2020</td>\n",
       "      <td>5</td>\n",
       "      <td>8</td>\n",
       "      <td>1</td>\n",
       "      <td>1</td>\n",
       "    </tr>\n",
       "    <tr>\n",
       "      <th>3</th>\n",
       "      <td>20210220</td>\n",
       "      <td>b9a28aa80bb40f0288e1dc873a885b66</td>\n",
       "      <td>2020-05-06</td>\n",
       "      <td>77</td>\n",
       "      <td>MASCULINO</td>\n",
       "      <td>NaN</td>\n",
       "      <td>LORETO</td>\n",
       "      <td>NaN</td>\n",
       "      <td>NaN</td>\n",
       "      <td>2020</td>\n",
       "      <td>5</td>\n",
       "      <td>6</td>\n",
       "      <td>1</td>\n",
       "      <td>1</td>\n",
       "    </tr>\n",
       "    <tr>\n",
       "      <th>4</th>\n",
       "      <td>20210220</td>\n",
       "      <td>d518d078409c2289987786adcc163b32</td>\n",
       "      <td>2020-05-11</td>\n",
       "      <td>81</td>\n",
       "      <td>MASCULINO</td>\n",
       "      <td>19380717.0</td>\n",
       "      <td>LIMA</td>\n",
       "      <td>LIMA</td>\n",
       "      <td>SAN JUAN DE MIRAFLORES</td>\n",
       "      <td>2020</td>\n",
       "      <td>5</td>\n",
       "      <td>11</td>\n",
       "      <td>1</td>\n",
       "      <td>1</td>\n",
       "    </tr>\n",
       "  </tbody>\n",
       "</table>\n",
       "</div>"
      ],
      "text/plain": [
       "   FECHA_CORTE                              UUID FECHA_FALLECIMIENTO  \\\n",
       "0     20210220  10be23dc2d9ed258be9bbb086a8c99a9          2020-05-11   \n",
       "1     20210220  1cb3e2064fdd925369f547795a6b5f8f          2020-04-29   \n",
       "2     20210220  0a226f18516d5fb46842551f9dd380b4          2020-05-08   \n",
       "3     20210220  b9a28aa80bb40f0288e1dc873a885b66          2020-05-06   \n",
       "4     20210220  d518d078409c2289987786adcc163b32          2020-05-11   \n",
       "\n",
       "   EDAD_DECLARADA       SEXO   FECHA_NAC DEPARTAMENTO PROVINCIA  \\\n",
       "0              62   FEMENINO  19580311.0         LIMA      LIMA   \n",
       "1              55  MASCULINO  19641220.0       LORETO    MAYNAS   \n",
       "2              67  MASCULINO         NaN       CALLAO       NaN   \n",
       "3              77  MASCULINO         NaN       LORETO       NaN   \n",
       "4              81  MASCULINO  19380717.0         LIMA      LIMA   \n",
       "\n",
       "                 DISTRITO  ANIO  MES  DIA  valor  VALOR  \n",
       "0       MAGDALENA DEL MAR  2020    5   11      1      1  \n",
       "1                 IQUITOS  2020    4   29      1      1  \n",
       "2                  CALLAO  2020    5    8      1      1  \n",
       "3                     NaN  2020    5    6      1      1  \n",
       "4  SAN JUAN DE MIRAFLORES  2020    5   11      1      1  "
      ]
     },
     "execution_count": 126,
     "metadata": {},
     "output_type": "execute_result"
    }
   ],
   "source": [
    "data.head()"
   ]
  },
  {
   "cell_type": "code",
   "execution_count": 127,
   "metadata": {},
   "outputs": [
    {
     "data": {
      "text/plain": [
       "<AxesSubplot:xlabel='ANIO', ylabel='count'>"
      ]
     },
     "execution_count": 127,
     "metadata": {},
     "output_type": "execute_result"
    },
    {
     "data": {
      "image/png": "[encoded data removed]",
      "text/plain": [
       "<Figure size 432x288 with 1 Axes>"
      ]
     },
     "metadata": {
      "needs_background": "light"
     },
     "output_type": "display_data"
    }
   ],
   "source": [
    "# Visualizar grafico de barras según el año\n",
    "sns.countplot(x='ANIO', data=data)"
   ]
  },
  {
   "cell_type": "code",
   "execution_count": 129,
   "metadata": {},
   "outputs": [
    {
     "data": {
      "text/html": [
       "<div>\n",
       "<style scoped>\n",
       "    .dataframe tbody tr th:only-of-type {\n",
       "        vertical-align: middle;\n",
       "    }\n",
       "\n",
       "    .dataframe tbody tr th {\n",
       "        vertical-align: top;\n",
       "    }\n",
       "\n",
       "    .dataframe thead th {\n",
       "        text-align: right;\n",
       "    }\n",
       "</style>\n",
       "<table border=\"1\" class=\"dataframe\">\n",
       "  <thead>\n",
       "    <tr style=\"text-align: right;\">\n",
       "      <th>ANIO</th>\n",
       "      <th>2020</th>\n",
       "      <th>2021</th>\n",
       "    </tr>\n",
       "    <tr>\n",
       "      <th>MES</th>\n",
       "      <th></th>\n",
       "      <th></th>\n",
       "    </tr>\n",
       "  </thead>\n",
       "  <tbody>\n",
       "    <tr>\n",
       "      <th>1</th>\n",
       "      <td>NaN</td>\n",
       "      <td>1.0</td>\n",
       "    </tr>\n",
       "    <tr>\n",
       "      <th>2</th>\n",
       "      <td>NaN</td>\n",
       "      <td>1.0</td>\n",
       "    </tr>\n",
       "    <tr>\n",
       "      <th>3</th>\n",
       "      <td>1.0</td>\n",
       "      <td>NaN</td>\n",
       "    </tr>\n",
       "    <tr>\n",
       "      <th>4</th>\n",
       "      <td>1.0</td>\n",
       "      <td>NaN</td>\n",
       "    </tr>\n",
       "    <tr>\n",
       "      <th>5</th>\n",
       "      <td>1.0</td>\n",
       "      <td>NaN</td>\n",
       "    </tr>\n",
       "    <tr>\n",
       "      <th>6</th>\n",
       "      <td>1.0</td>\n",
       "      <td>NaN</td>\n",
       "    </tr>\n",
       "    <tr>\n",
       "      <th>7</th>\n",
       "      <td>1.0</td>\n",
       "      <td>NaN</td>\n",
       "    </tr>\n",
       "    <tr>\n",
       "      <th>8</th>\n",
       "      <td>1.0</td>\n",
       "      <td>NaN</td>\n",
       "    </tr>\n",
       "    <tr>\n",
       "      <th>9</th>\n",
       "      <td>1.0</td>\n",
       "      <td>NaN</td>\n",
       "    </tr>\n",
       "    <tr>\n",
       "      <th>10</th>\n",
       "      <td>1.0</td>\n",
       "      <td>NaN</td>\n",
       "    </tr>\n",
       "    <tr>\n",
       "      <th>11</th>\n",
       "      <td>1.0</td>\n",
       "      <td>NaN</td>\n",
       "    </tr>\n",
       "    <tr>\n",
       "      <th>12</th>\n",
       "      <td>1.0</td>\n",
       "      <td>NaN</td>\n",
       "    </tr>\n",
       "  </tbody>\n",
       "</table>\n",
       "</div>"
      ],
      "text/plain": [
       "ANIO  2020  2021\n",
       "MES             \n",
       "1      NaN   1.0\n",
       "2      NaN   1.0\n",
       "3      1.0   NaN\n",
       "4      1.0   NaN\n",
       "5      1.0   NaN\n",
       "6      1.0   NaN\n",
       "7      1.0   NaN\n",
       "8      1.0   NaN\n",
       "9      1.0   NaN\n",
       "10     1.0   NaN\n",
       "11     1.0   NaN\n",
       "12     1.0   NaN"
      ]
     },
     "execution_count": 129,
     "metadata": {},
     "output_type": "execute_result"
    }
   ],
   "source": [
    "# mapa de calor\n",
    "vuelos_matrix = data.pivot_table(index='MES', columns='ANIO', values='VALOR')\n",
    "vuelos_matrix"
   ]
  },
  {
   "cell_type": "code",
   "execution_count": 130,
   "metadata": {},
   "outputs": [
    {
     "data": {
      "text/plain": [
       "<AxesSubplot:xlabel='ANIO', ylabel='MES'>"
      ]
     },
     "execution_count": 130,
     "metadata": {},
     "output_type": "execute_result"
    },
    {
     "data": {
      "image/png": "[encoded data removed]",
      "text/plain": [
       "<Figure size 432x288 with 2 Axes>"
      ]
     },
     "metadata": {
      "needs_background": "light"
     },
     "output_type": "display_data"
    }
   ],
   "source": [
    "sns.heatmap(vuelos_matrix)"
   ]
  },
  {
   "cell_type": "code",
   "execution_count": null,
   "metadata": {},
   "outputs": [],
   "source": [
    "sns.lmplot(x='total_bill', y='tip', data=propinas,hue='sex')"
   ]
  },
  {
   "cell_type": "code",
   "execution_count": null,
   "metadata": {},
   "outputs": [],
   "source": []
  },
  {
   "cell_type": "code",
   "execution_count": null,
   "metadata": {},
   "outputs": [],
   "source": []
  },
  {
   "cell_type": "code",
   "execution_count": null,
   "metadata": {},
   "outputs": [],
   "source": []
  },
  {
   "cell_type": "code",
   "execution_count": null,
   "metadata": {},
   "outputs": [],
   "source": []
  },
  {
   "cell_type": "code",
   "execution_count": null,
   "metadata": {},
   "outputs": [],
   "source": []
  },
  {
   "cell_type": "code",
   "execution_count": null,
   "metadata": {},
   "outputs": [],
   "source": []
  },
  {
   "cell_type": "code",
   "execution_count": null,
   "metadata": {},
   "outputs": [],
   "source": []
  },
  {
   "cell_type": "code",
   "execution_count": null,
   "metadata": {},
   "outputs": [],
   "source": []
  },
  {
   "cell_type": "code",
   "execution_count": null,
   "metadata": {},
   "outputs": [],
   "source": []
  }
 ],
 "metadata": {
  "kernelspec": {
   "display_name": "Python 3",
   "language": "python",
   "name": "python3"
  },
  "language_info": {
   "codemirror_mode": {
    "name": "ipython",
    "version": 3
   },
   "file_extension": ".py",
   "mimetype": "text/x-python",
   "name": "python",
   "nbconvert_exporter": "python",
   "pygments_lexer": "ipython3",
   "version": "3.8.5"
  }
 },
 "nbformat": 4,
 "nbformat_minor": 4
}
